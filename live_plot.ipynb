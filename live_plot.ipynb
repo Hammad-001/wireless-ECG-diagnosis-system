{
 "cells": [
  {
   "cell_type": "code",
   "execution_count": null,
   "metadata": {},
   "outputs": [],
   "source": [
    "import time\n",
    "import psutil\n",
    "import matplotlib.pyplot as plt\n",
    "%matplotlib notebook\n",
    "plt.rcParams['animation.html'] = 'jshtml'\n",
    "fig = plt.figure()\n",
    "ax = fig.add_subplot(111)\n",
    "fig.show()\n",
    "i = 0\n",
    "x, y = [], []\n",
    "\n",
    "while True:\n",
    "    x.append(i)\n",
    "    y.append(psutil.cpu_percent())\n",
    "    \n",
    "    ax.plot(x, y, color='b')\n",
    "    \n",
    "    fig.canvas.draw()\n",
    "    \n",
    "    ax.set_xlim(left=max(0, i-50), right=i+50)\n",
    "    \n",
    "    time.sleep(0.1)\n",
    "    i += 1\n",
    "plt.close()"
   ]
  }
 ],
 "metadata": {
  "language_info": {
   "name": "python"
  },
  "orig_nbformat": 4
 },
 "nbformat": 4,
 "nbformat_minor": 2
}
