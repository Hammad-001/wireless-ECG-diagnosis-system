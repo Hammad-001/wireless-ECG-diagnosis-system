{
  "cells": [
    {
      "cell_type": "markdown",
      "source": [
        "## Recreating the following for classification problem\n",
        "https://www.tensorflow.org/text/tutorials/transformer"
      ],
      "metadata": {
        "id": "aalYeMHGPiYU"
      }
    },
    {
      "cell_type": "markdown",
      "metadata": {
        "id": "OfV1batAwq9j"
      },
      "source": [
        "Need tensorflow-text for using the BERT model tokenizer"
      ]
    },
    {
      "cell_type": "code",
      "execution_count": 2,
      "metadata": {
        "id": "XFG0NDRu5mYQ"
      },
      "outputs": [],
      "source": [
        "# Install the nightly version of TensorFlow to use the improved\n",
        "# masking support for `tf.keras.layers.MultiHeadAttention`.\n",
        "!pip uninstall -y -q tensorflow keras tensorflow-estimator tensorflow-text\n",
        "!pip install -q -U tensorflow-text tensorflow"
      ]
    },
    {
      "cell_type": "markdown",
      "metadata": {
        "id": "0GYpLBSjxJmG"
      },
      "source": [
        "Import the necessary modules:"
      ]
    },
    {
      "cell_type": "code",
      "execution_count": 3,
      "metadata": {
        "id": "JjJJyJTZYebt"
      },
      "outputs": [],
      "source": [
        "import os\n",
        "import pandas as pd\n",
        "import numpy as np\n",
        "import matplotlib.pyplot as plt\n",
        "import tensorflow as tf\n",
        "import tensorflow_text\n",
        "from sklearn.utils import shuffle "
      ]
    },
    {
      "cell_type": "markdown",
      "source": [
        "Doing necessary data preprocessing"
      ],
      "metadata": {
        "id": "i4T14r9fQead"
      }
    },
    {
      "cell_type": "code",
      "source": [
        "os.listdir('.')"
      ],
      "metadata": {
        "colab": {
          "base_uri": "https://localhost:8080/"
        },
        "id": "s5IzyXpYXTIO",
        "outputId": "718655dc-d741-4cca-e609-f0becdc8bb99"
      },
      "execution_count": 4,
      "outputs": [
        {
          "output_type": "execute_result",
          "data": {
            "text/plain": [
              "['.config',\n",
              " 'twitter_validation.csv',\n",
              " 'twitter_training.csv',\n",
              " 'ted_hrlr_translate_pt_en_converter.zip',\n",
              " 'ted_hrlr_translate_pt_en_converter',\n",
              " 'sample_data']"
            ]
          },
          "metadata": {},
          "execution_count": 4
        }
      ]
    },
    {
      "cell_type": "code",
      "source": [
        "training_data_loc = \"./twitter_training.csv\"\n",
        "val_data_loc = \"./twitter_validation.csv\""
      ],
      "metadata": {
        "id": "I07JCtVxyOWT"
      },
      "execution_count": 5,
      "outputs": []
    },
    {
      "cell_type": "code",
      "source": [
        "df = pd.read_csv(training_data_loc)\n",
        "df"
      ],
      "metadata": {
        "colab": {
          "base_uri": "https://localhost:8080/",
          "height": 424
        },
        "id": "QqCulADtyWDT",
        "outputId": "3828d3c1-74ee-4d39-c495-795e9f246f47"
      },
      "execution_count": 6,
      "outputs": [
        {
          "output_type": "execute_result",
          "data": {
            "text/plain": [
              "       2401  Borderlands  Positive  \\\n",
              "0      2401  Borderlands  Positive   \n",
              "1      2401  Borderlands  Positive   \n",
              "2      2401  Borderlands  Positive   \n",
              "3      2401  Borderlands  Positive   \n",
              "4      2401  Borderlands  Positive   \n",
              "...     ...          ...       ...   \n",
              "74676  9200       Nvidia  Positive   \n",
              "74677  9200       Nvidia  Positive   \n",
              "74678  9200       Nvidia  Positive   \n",
              "74679  9200       Nvidia  Positive   \n",
              "74680  9200       Nvidia  Positive   \n",
              "\n",
              "      im getting on borderlands and i will murder you all ,  \n",
              "0      I am coming to the borders and I will kill you...     \n",
              "1      im getting on borderlands and i will kill you ...     \n",
              "2      im coming on borderlands and i will murder you...     \n",
              "3      im getting on borderlands 2 and i will murder ...     \n",
              "4      im getting into borderlands and i can murder y...     \n",
              "...                                                  ...     \n",
              "74676  Just realized that the Windows partition of my...     \n",
              "74677  Just realized that my Mac window partition is ...     \n",
              "74678  Just realized the windows partition of my Mac ...     \n",
              "74679  Just realized between the windows partition of...     \n",
              "74680  Just like the windows partition of my Mac is l...     \n",
              "\n",
              "[74681 rows x 4 columns]"
            ],
            "text/html": [
              "\n",
              "  <div id=\"df-416ada89-8b05-4f21-9111-e14f365f5c6b\">\n",
              "    <div class=\"colab-df-container\">\n",
              "      <div>\n",
              "<style scoped>\n",
              "    .dataframe tbody tr th:only-of-type {\n",
              "        vertical-align: middle;\n",
              "    }\n",
              "\n",
              "    .dataframe tbody tr th {\n",
              "        vertical-align: top;\n",
              "    }\n",
              "\n",
              "    .dataframe thead th {\n",
              "        text-align: right;\n",
              "    }\n",
              "</style>\n",
              "<table border=\"1\" class=\"dataframe\">\n",
              "  <thead>\n",
              "    <tr style=\"text-align: right;\">\n",
              "      <th></th>\n",
              "      <th>2401</th>\n",
              "      <th>Borderlands</th>\n",
              "      <th>Positive</th>\n",
              "      <th>im getting on borderlands and i will murder you all ,</th>\n",
              "    </tr>\n",
              "  </thead>\n",
              "  <tbody>\n",
              "    <tr>\n",
              "      <th>0</th>\n",
              "      <td>2401</td>\n",
              "      <td>Borderlands</td>\n",
              "      <td>Positive</td>\n",
              "      <td>I am coming to the borders and I will kill you...</td>\n",
              "    </tr>\n",
              "    <tr>\n",
              "      <th>1</th>\n",
              "      <td>2401</td>\n",
              "      <td>Borderlands</td>\n",
              "      <td>Positive</td>\n",
              "      <td>im getting on borderlands and i will kill you ...</td>\n",
              "    </tr>\n",
              "    <tr>\n",
              "      <th>2</th>\n",
              "      <td>2401</td>\n",
              "      <td>Borderlands</td>\n",
              "      <td>Positive</td>\n",
              "      <td>im coming on borderlands and i will murder you...</td>\n",
              "    </tr>\n",
              "    <tr>\n",
              "      <th>3</th>\n",
              "      <td>2401</td>\n",
              "      <td>Borderlands</td>\n",
              "      <td>Positive</td>\n",
              "      <td>im getting on borderlands 2 and i will murder ...</td>\n",
              "    </tr>\n",
              "    <tr>\n",
              "      <th>4</th>\n",
              "      <td>2401</td>\n",
              "      <td>Borderlands</td>\n",
              "      <td>Positive</td>\n",
              "      <td>im getting into borderlands and i can murder y...</td>\n",
              "    </tr>\n",
              "    <tr>\n",
              "      <th>...</th>\n",
              "      <td>...</td>\n",
              "      <td>...</td>\n",
              "      <td>...</td>\n",
              "      <td>...</td>\n",
              "    </tr>\n",
              "    <tr>\n",
              "      <th>74676</th>\n",
              "      <td>9200</td>\n",
              "      <td>Nvidia</td>\n",
              "      <td>Positive</td>\n",
              "      <td>Just realized that the Windows partition of my...</td>\n",
              "    </tr>\n",
              "    <tr>\n",
              "      <th>74677</th>\n",
              "      <td>9200</td>\n",
              "      <td>Nvidia</td>\n",
              "      <td>Positive</td>\n",
              "      <td>Just realized that my Mac window partition is ...</td>\n",
              "    </tr>\n",
              "    <tr>\n",
              "      <th>74678</th>\n",
              "      <td>9200</td>\n",
              "      <td>Nvidia</td>\n",
              "      <td>Positive</td>\n",
              "      <td>Just realized the windows partition of my Mac ...</td>\n",
              "    </tr>\n",
              "    <tr>\n",
              "      <th>74679</th>\n",
              "      <td>9200</td>\n",
              "      <td>Nvidia</td>\n",
              "      <td>Positive</td>\n",
              "      <td>Just realized between the windows partition of...</td>\n",
              "    </tr>\n",
              "    <tr>\n",
              "      <th>74680</th>\n",
              "      <td>9200</td>\n",
              "      <td>Nvidia</td>\n",
              "      <td>Positive</td>\n",
              "      <td>Just like the windows partition of my Mac is l...</td>\n",
              "    </tr>\n",
              "  </tbody>\n",
              "</table>\n",
              "<p>74681 rows × 4 columns</p>\n",
              "</div>\n",
              "      <button class=\"colab-df-convert\" onclick=\"convertToInteractive('df-416ada89-8b05-4f21-9111-e14f365f5c6b')\"\n",
              "              title=\"Convert this dataframe to an interactive table.\"\n",
              "              style=\"display:none;\">\n",
              "        \n",
              "  <svg xmlns=\"http://www.w3.org/2000/svg\" height=\"24px\"viewBox=\"0 0 24 24\"\n",
              "       width=\"24px\">\n",
              "    <path d=\"M0 0h24v24H0V0z\" fill=\"none\"/>\n",
              "    <path d=\"M18.56 5.44l.94 2.06.94-2.06 2.06-.94-2.06-.94-.94-2.06-.94 2.06-2.06.94zm-11 1L8.5 8.5l.94-2.06 2.06-.94-2.06-.94L8.5 2.5l-.94 2.06-2.06.94zm10 10l.94 2.06.94-2.06 2.06-.94-2.06-.94-.94-2.06-.94 2.06-2.06.94z\"/><path d=\"M17.41 7.96l-1.37-1.37c-.4-.4-.92-.59-1.43-.59-.52 0-1.04.2-1.43.59L10.3 9.45l-7.72 7.72c-.78.78-.78 2.05 0 2.83L4 21.41c.39.39.9.59 1.41.59.51 0 1.02-.2 1.41-.59l7.78-7.78 2.81-2.81c.8-.78.8-2.07 0-2.86zM5.41 20L4 18.59l7.72-7.72 1.47 1.35L5.41 20z\"/>\n",
              "  </svg>\n",
              "      </button>\n",
              "      \n",
              "  <style>\n",
              "    .colab-df-container {\n",
              "      display:flex;\n",
              "      flex-wrap:wrap;\n",
              "      gap: 12px;\n",
              "    }\n",
              "\n",
              "    .colab-df-convert {\n",
              "      background-color: #E8F0FE;\n",
              "      border: none;\n",
              "      border-radius: 50%;\n",
              "      cursor: pointer;\n",
              "      display: none;\n",
              "      fill: #1967D2;\n",
              "      height: 32px;\n",
              "      padding: 0 0 0 0;\n",
              "      width: 32px;\n",
              "    }\n",
              "\n",
              "    .colab-df-convert:hover {\n",
              "      background-color: #E2EBFA;\n",
              "      box-shadow: 0px 1px 2px rgba(60, 64, 67, 0.3), 0px 1px 3px 1px rgba(60, 64, 67, 0.15);\n",
              "      fill: #174EA6;\n",
              "    }\n",
              "\n",
              "    [theme=dark] .colab-df-convert {\n",
              "      background-color: #3B4455;\n",
              "      fill: #D2E3FC;\n",
              "    }\n",
              "\n",
              "    [theme=dark] .colab-df-convert:hover {\n",
              "      background-color: #434B5C;\n",
              "      box-shadow: 0px 1px 3px 1px rgba(0, 0, 0, 0.15);\n",
              "      filter: drop-shadow(0px 1px 2px rgba(0, 0, 0, 0.3));\n",
              "      fill: #FFFFFF;\n",
              "    }\n",
              "  </style>\n",
              "\n",
              "      <script>\n",
              "        const buttonEl =\n",
              "          document.querySelector('#df-416ada89-8b05-4f21-9111-e14f365f5c6b button.colab-df-convert');\n",
              "        buttonEl.style.display =\n",
              "          google.colab.kernel.accessAllowed ? 'block' : 'none';\n",
              "\n",
              "        async function convertToInteractive(key) {\n",
              "          const element = document.querySelector('#df-416ada89-8b05-4f21-9111-e14f365f5c6b');\n",
              "          const dataTable =\n",
              "            await google.colab.kernel.invokeFunction('convertToInteractive',\n",
              "                                                     [key], {});\n",
              "          if (!dataTable) return;\n",
              "\n",
              "          const docLinkHtml = 'Like what you see? Visit the ' +\n",
              "            '<a target=\"_blank\" href=https://colab.research.google.com/notebooks/data_table.ipynb>data table notebook</a>'\n",
              "            + ' to learn more about interactive tables.';\n",
              "          element.innerHTML = '';\n",
              "          dataTable['output_type'] = 'display_data';\n",
              "          await google.colab.output.renderOutput(dataTable, element);\n",
              "          const docLink = document.createElement('div');\n",
              "          docLink.innerHTML = docLinkHtml;\n",
              "          element.appendChild(docLink);\n",
              "        }\n",
              "      </script>\n",
              "    </div>\n",
              "  </div>\n",
              "  "
            ]
          },
          "metadata": {},
          "execution_count": 6
        }
      ]
    },
    {
      "cell_type": "code",
      "source": [
        "df = df[df.columns[2:]]"
      ],
      "metadata": {
        "id": "pS4ybWKnyk60"
      },
      "execution_count": 7,
      "outputs": []
    },
    {
      "cell_type": "code",
      "source": [
        "df = df.rename(columns={\"Positive\":\"Sentiment\", \"im getting on borderlands and i will murder you all ,\":\"sentence\"})"
      ],
      "metadata": {
        "id": "iHKFQiYZyodp"
      },
      "execution_count": 8,
      "outputs": []
    },
    {
      "cell_type": "code",
      "source": [
        "df['Sentiment'].value_counts()"
      ],
      "metadata": {
        "colab": {
          "base_uri": "https://localhost:8080/"
        },
        "id": "ehoSJitfyqFg",
        "outputId": "e9d1d797-0776-40e7-fe7c-78875116f2e5"
      },
      "execution_count": 9,
      "outputs": [
        {
          "output_type": "execute_result",
          "data": {
            "text/plain": [
              "Negative      22542\n",
              "Positive      20831\n",
              "Neutral       18318\n",
              "Irrelevant    12990\n",
              "Name: Sentiment, dtype: int64"
            ]
          },
          "metadata": {},
          "execution_count": 9
        }
      ]
    },
    {
      "cell_type": "code",
      "source": [
        "df = df[df.apply(lambda x: (x[\"Sentiment\"] == \"Positive\") or (x[\"Sentiment\"] == \"Negative\"), axis=1)]"
      ],
      "metadata": {
        "id": "nNwXwOfGyxQY"
      },
      "execution_count": 10,
      "outputs": []
    },
    {
      "cell_type": "code",
      "source": [
        "df['Sentiment'].value_counts()"
      ],
      "metadata": {
        "colab": {
          "base_uri": "https://localhost:8080/"
        },
        "id": "Nn62U45gy2er",
        "outputId": "8a0d2d5a-e3c4-480f-aabd-b9a1e05da5fb"
      },
      "execution_count": 11,
      "outputs": [
        {
          "output_type": "execute_result",
          "data": {
            "text/plain": [
              "Negative    22542\n",
              "Positive    20831\n",
              "Name: Sentiment, dtype: int64"
            ]
          },
          "metadata": {},
          "execution_count": 11
        }
      ]
    },
    {
      "cell_type": "code",
      "source": [
        "df['Sentiment'] = df['Sentiment'].apply(lambda x: 1 if x == \"Positive\" else 0)"
      ],
      "metadata": {
        "id": "mQK30n9gy9jT"
      },
      "execution_count": 12,
      "outputs": []
    },
    {
      "cell_type": "code",
      "source": [
        "df = shuffle(df)\n",
        "\n",
        "df"
      ],
      "metadata": {
        "colab": {
          "base_uri": "https://localhost:8080/",
          "height": 424
        },
        "id": "MCdnMURwzFYm",
        "outputId": "1a7c2adc-3383-4712-93ff-7ee8202ced38"
      },
      "execution_count": 13,
      "outputs": [
        {
          "output_type": "execute_result",
          "data": {
            "text/plain": [
              "       Sentiment                                           sentence\n",
              "4646           0  SBMM is seriously ruining the fun gaming shoul...\n",
              "11238          1                                 Can't wait to play\n",
              "36923          0                                                   \n",
              "40633          0  I have noticed that the streamers I watch, who...\n",
              "17784          1                                         Oh cool...\n",
              "...          ...                                                ...\n",
              "48730          1  As much when people don’t like the Amazon busi...\n",
              "26039          1  Watching the leaked gameplay of  . . It's not ...\n",
              "4729           1  Amazon has the coolest shit I never thought I ...\n",
              "34639          1                         Rue it's so beautiful.....\n",
              "23481          1                     And I live for this shit [UNK]\n",
              "\n",
              "[43373 rows x 2 columns]"
            ],
            "text/html": [
              "\n",
              "  <div id=\"df-66e9b02e-60d5-48e7-aa50-797ecab2ae02\">\n",
              "    <div class=\"colab-df-container\">\n",
              "      <div>\n",
              "<style scoped>\n",
              "    .dataframe tbody tr th:only-of-type {\n",
              "        vertical-align: middle;\n",
              "    }\n",
              "\n",
              "    .dataframe tbody tr th {\n",
              "        vertical-align: top;\n",
              "    }\n",
              "\n",
              "    .dataframe thead th {\n",
              "        text-align: right;\n",
              "    }\n",
              "</style>\n",
              "<table border=\"1\" class=\"dataframe\">\n",
              "  <thead>\n",
              "    <tr style=\"text-align: right;\">\n",
              "      <th></th>\n",
              "      <th>Sentiment</th>\n",
              "      <th>sentence</th>\n",
              "    </tr>\n",
              "  </thead>\n",
              "  <tbody>\n",
              "    <tr>\n",
              "      <th>4646</th>\n",
              "      <td>0</td>\n",
              "      <td>SBMM is seriously ruining the fun gaming shoul...</td>\n",
              "    </tr>\n",
              "    <tr>\n",
              "      <th>11238</th>\n",
              "      <td>1</td>\n",
              "      <td>Can't wait to play</td>\n",
              "    </tr>\n",
              "    <tr>\n",
              "      <th>36923</th>\n",
              "      <td>0</td>\n",
              "      <td></td>\n",
              "    </tr>\n",
              "    <tr>\n",
              "      <th>40633</th>\n",
              "      <td>0</td>\n",
              "      <td>I have noticed that the streamers I watch, who...</td>\n",
              "    </tr>\n",
              "    <tr>\n",
              "      <th>17784</th>\n",
              "      <td>1</td>\n",
              "      <td>Oh cool...</td>\n",
              "    </tr>\n",
              "    <tr>\n",
              "      <th>...</th>\n",
              "      <td>...</td>\n",
              "      <td>...</td>\n",
              "    </tr>\n",
              "    <tr>\n",
              "      <th>48730</th>\n",
              "      <td>1</td>\n",
              "      <td>As much when people don’t like the Amazon busi...</td>\n",
              "    </tr>\n",
              "    <tr>\n",
              "      <th>26039</th>\n",
              "      <td>1</td>\n",
              "      <td>Watching the leaked gameplay of  . . It's not ...</td>\n",
              "    </tr>\n",
              "    <tr>\n",
              "      <th>4729</th>\n",
              "      <td>1</td>\n",
              "      <td>Amazon has the coolest shit I never thought I ...</td>\n",
              "    </tr>\n",
              "    <tr>\n",
              "      <th>34639</th>\n",
              "      <td>1</td>\n",
              "      <td>Rue it's so beautiful.....</td>\n",
              "    </tr>\n",
              "    <tr>\n",
              "      <th>23481</th>\n",
              "      <td>1</td>\n",
              "      <td>And I live for this shit [UNK]</td>\n",
              "    </tr>\n",
              "  </tbody>\n",
              "</table>\n",
              "<p>43373 rows × 2 columns</p>\n",
              "</div>\n",
              "      <button class=\"colab-df-convert\" onclick=\"convertToInteractive('df-66e9b02e-60d5-48e7-aa50-797ecab2ae02')\"\n",
              "              title=\"Convert this dataframe to an interactive table.\"\n",
              "              style=\"display:none;\">\n",
              "        \n",
              "  <svg xmlns=\"http://www.w3.org/2000/svg\" height=\"24px\"viewBox=\"0 0 24 24\"\n",
              "       width=\"24px\">\n",
              "    <path d=\"M0 0h24v24H0V0z\" fill=\"none\"/>\n",
              "    <path d=\"M18.56 5.44l.94 2.06.94-2.06 2.06-.94-2.06-.94-.94-2.06-.94 2.06-2.06.94zm-11 1L8.5 8.5l.94-2.06 2.06-.94-2.06-.94L8.5 2.5l-.94 2.06-2.06.94zm10 10l.94 2.06.94-2.06 2.06-.94-2.06-.94-.94-2.06-.94 2.06-2.06.94z\"/><path d=\"M17.41 7.96l-1.37-1.37c-.4-.4-.92-.59-1.43-.59-.52 0-1.04.2-1.43.59L10.3 9.45l-7.72 7.72c-.78.78-.78 2.05 0 2.83L4 21.41c.39.39.9.59 1.41.59.51 0 1.02-.2 1.41-.59l7.78-7.78 2.81-2.81c.8-.78.8-2.07 0-2.86zM5.41 20L4 18.59l7.72-7.72 1.47 1.35L5.41 20z\"/>\n",
              "  </svg>\n",
              "      </button>\n",
              "      \n",
              "  <style>\n",
              "    .colab-df-container {\n",
              "      display:flex;\n",
              "      flex-wrap:wrap;\n",
              "      gap: 12px;\n",
              "    }\n",
              "\n",
              "    .colab-df-convert {\n",
              "      background-color: #E8F0FE;\n",
              "      border: none;\n",
              "      border-radius: 50%;\n",
              "      cursor: pointer;\n",
              "      display: none;\n",
              "      fill: #1967D2;\n",
              "      height: 32px;\n",
              "      padding: 0 0 0 0;\n",
              "      width: 32px;\n",
              "    }\n",
              "\n",
              "    .colab-df-convert:hover {\n",
              "      background-color: #E2EBFA;\n",
              "      box-shadow: 0px 1px 2px rgba(60, 64, 67, 0.3), 0px 1px 3px 1px rgba(60, 64, 67, 0.15);\n",
              "      fill: #174EA6;\n",
              "    }\n",
              "\n",
              "    [theme=dark] .colab-df-convert {\n",
              "      background-color: #3B4455;\n",
              "      fill: #D2E3FC;\n",
              "    }\n",
              "\n",
              "    [theme=dark] .colab-df-convert:hover {\n",
              "      background-color: #434B5C;\n",
              "      box-shadow: 0px 1px 3px 1px rgba(0, 0, 0, 0.15);\n",
              "      filter: drop-shadow(0px 1px 2px rgba(0, 0, 0, 0.3));\n",
              "      fill: #FFFFFF;\n",
              "    }\n",
              "  </style>\n",
              "\n",
              "      <script>\n",
              "        const buttonEl =\n",
              "          document.querySelector('#df-66e9b02e-60d5-48e7-aa50-797ecab2ae02 button.colab-df-convert');\n",
              "        buttonEl.style.display =\n",
              "          google.colab.kernel.accessAllowed ? 'block' : 'none';\n",
              "\n",
              "        async function convertToInteractive(key) {\n",
              "          const element = document.querySelector('#df-66e9b02e-60d5-48e7-aa50-797ecab2ae02');\n",
              "          const dataTable =\n",
              "            await google.colab.kernel.invokeFunction('convertToInteractive',\n",
              "                                                     [key], {});\n",
              "          if (!dataTable) return;\n",
              "\n",
              "          const docLinkHtml = 'Like what you see? Visit the ' +\n",
              "            '<a target=\"_blank\" href=https://colab.research.google.com/notebooks/data_table.ipynb>data table notebook</a>'\n",
              "            + ' to learn more about interactive tables.';\n",
              "          element.innerHTML = '';\n",
              "          dataTable['output_type'] = 'display_data';\n",
              "          await google.colab.output.renderOutput(dataTable, element);\n",
              "          const docLink = document.createElement('div');\n",
              "          docLink.innerHTML = docLinkHtml;\n",
              "          element.appendChild(docLink);\n",
              "        }\n",
              "      </script>\n",
              "    </div>\n",
              "  </div>\n",
              "  "
            ]
          },
          "metadata": {},
          "execution_count": 13
        }
      ]
    },
    {
      "cell_type": "code",
      "source": [
        "df.isna().value_counts()"
      ],
      "metadata": {
        "colab": {
          "base_uri": "https://localhost:8080/"
        },
        "id": "9Lo92lqyXy0o",
        "outputId": "18ec6f5d-1dd0-47cd-be05-634c871e937c"
      },
      "execution_count": 14,
      "outputs": [
        {
          "output_type": "execute_result",
          "data": {
            "text/plain": [
              "Sentiment  sentence\n",
              "False      False       43012\n",
              "           True          361\n",
              "dtype: int64"
            ]
          },
          "metadata": {},
          "execution_count": 14
        }
      ]
    },
    {
      "cell_type": "code",
      "source": [
        "df.dropna(inplace=True) # dropping empty sentences"
      ],
      "metadata": {
        "id": "4Fv04PYyYFT8"
      },
      "execution_count": 15,
      "outputs": []
    },
    {
      "cell_type": "code",
      "source": [
        "df"
      ],
      "metadata": {
        "colab": {
          "base_uri": "https://localhost:8080/",
          "height": 424
        },
        "id": "2t6mZ25aQ-K8",
        "outputId": "ef8115c5-f703-4078-c651-cb005ac8f24b"
      },
      "execution_count": 16,
      "outputs": [
        {
          "output_type": "execute_result",
          "data": {
            "text/plain": [
              "       Sentiment                                           sentence\n",
              "4646           0  SBMM is seriously ruining the fun gaming shoul...\n",
              "11238          1                                 Can't wait to play\n",
              "36923          0                                                   \n",
              "40633          0  I have noticed that the streamers I watch, who...\n",
              "17784          1                                         Oh cool...\n",
              "...          ...                                                ...\n",
              "48730          1  As much when people don’t like the Amazon busi...\n",
              "26039          1  Watching the leaked gameplay of  . . It's not ...\n",
              "4729           1  Amazon has the coolest shit I never thought I ...\n",
              "34639          1                         Rue it's so beautiful.....\n",
              "23481          1                     And I live for this shit [UNK]\n",
              "\n",
              "[43012 rows x 2 columns]"
            ],
            "text/html": [
              "\n",
              "  <div id=\"df-d914f620-5cd6-45df-9fb5-3904d5c51c8f\">\n",
              "    <div class=\"colab-df-container\">\n",
              "      <div>\n",
              "<style scoped>\n",
              "    .dataframe tbody tr th:only-of-type {\n",
              "        vertical-align: middle;\n",
              "    }\n",
              "\n",
              "    .dataframe tbody tr th {\n",
              "        vertical-align: top;\n",
              "    }\n",
              "\n",
              "    .dataframe thead th {\n",
              "        text-align: right;\n",
              "    }\n",
              "</style>\n",
              "<table border=\"1\" class=\"dataframe\">\n",
              "  <thead>\n",
              "    <tr style=\"text-align: right;\">\n",
              "      <th></th>\n",
              "      <th>Sentiment</th>\n",
              "      <th>sentence</th>\n",
              "    </tr>\n",
              "  </thead>\n",
              "  <tbody>\n",
              "    <tr>\n",
              "      <th>4646</th>\n",
              "      <td>0</td>\n",
              "      <td>SBMM is seriously ruining the fun gaming shoul...</td>\n",
              "    </tr>\n",
              "    <tr>\n",
              "      <th>11238</th>\n",
              "      <td>1</td>\n",
              "      <td>Can't wait to play</td>\n",
              "    </tr>\n",
              "    <tr>\n",
              "      <th>36923</th>\n",
              "      <td>0</td>\n",
              "      <td></td>\n",
              "    </tr>\n",
              "    <tr>\n",
              "      <th>40633</th>\n",
              "      <td>0</td>\n",
              "      <td>I have noticed that the streamers I watch, who...</td>\n",
              "    </tr>\n",
              "    <tr>\n",
              "      <th>17784</th>\n",
              "      <td>1</td>\n",
              "      <td>Oh cool...</td>\n",
              "    </tr>\n",
              "    <tr>\n",
              "      <th>...</th>\n",
              "      <td>...</td>\n",
              "      <td>...</td>\n",
              "    </tr>\n",
              "    <tr>\n",
              "      <th>48730</th>\n",
              "      <td>1</td>\n",
              "      <td>As much when people don’t like the Amazon busi...</td>\n",
              "    </tr>\n",
              "    <tr>\n",
              "      <th>26039</th>\n",
              "      <td>1</td>\n",
              "      <td>Watching the leaked gameplay of  . . It's not ...</td>\n",
              "    </tr>\n",
              "    <tr>\n",
              "      <th>4729</th>\n",
              "      <td>1</td>\n",
              "      <td>Amazon has the coolest shit I never thought I ...</td>\n",
              "    </tr>\n",
              "    <tr>\n",
              "      <th>34639</th>\n",
              "      <td>1</td>\n",
              "      <td>Rue it's so beautiful.....</td>\n",
              "    </tr>\n",
              "    <tr>\n",
              "      <th>23481</th>\n",
              "      <td>1</td>\n",
              "      <td>And I live for this shit [UNK]</td>\n",
              "    </tr>\n",
              "  </tbody>\n",
              "</table>\n",
              "<p>43012 rows × 2 columns</p>\n",
              "</div>\n",
              "      <button class=\"colab-df-convert\" onclick=\"convertToInteractive('df-d914f620-5cd6-45df-9fb5-3904d5c51c8f')\"\n",
              "              title=\"Convert this dataframe to an interactive table.\"\n",
              "              style=\"display:none;\">\n",
              "        \n",
              "  <svg xmlns=\"http://www.w3.org/2000/svg\" height=\"24px\"viewBox=\"0 0 24 24\"\n",
              "       width=\"24px\">\n",
              "    <path d=\"M0 0h24v24H0V0z\" fill=\"none\"/>\n",
              "    <path d=\"M18.56 5.44l.94 2.06.94-2.06 2.06-.94-2.06-.94-.94-2.06-.94 2.06-2.06.94zm-11 1L8.5 8.5l.94-2.06 2.06-.94-2.06-.94L8.5 2.5l-.94 2.06-2.06.94zm10 10l.94 2.06.94-2.06 2.06-.94-2.06-.94-.94-2.06-.94 2.06-2.06.94z\"/><path d=\"M17.41 7.96l-1.37-1.37c-.4-.4-.92-.59-1.43-.59-.52 0-1.04.2-1.43.59L10.3 9.45l-7.72 7.72c-.78.78-.78 2.05 0 2.83L4 21.41c.39.39.9.59 1.41.59.51 0 1.02-.2 1.41-.59l7.78-7.78 2.81-2.81c.8-.78.8-2.07 0-2.86zM5.41 20L4 18.59l7.72-7.72 1.47 1.35L5.41 20z\"/>\n",
              "  </svg>\n",
              "      </button>\n",
              "      \n",
              "  <style>\n",
              "    .colab-df-container {\n",
              "      display:flex;\n",
              "      flex-wrap:wrap;\n",
              "      gap: 12px;\n",
              "    }\n",
              "\n",
              "    .colab-df-convert {\n",
              "      background-color: #E8F0FE;\n",
              "      border: none;\n",
              "      border-radius: 50%;\n",
              "      cursor: pointer;\n",
              "      display: none;\n",
              "      fill: #1967D2;\n",
              "      height: 32px;\n",
              "      padding: 0 0 0 0;\n",
              "      width: 32px;\n",
              "    }\n",
              "\n",
              "    .colab-df-convert:hover {\n",
              "      background-color: #E2EBFA;\n",
              "      box-shadow: 0px 1px 2px rgba(60, 64, 67, 0.3), 0px 1px 3px 1px rgba(60, 64, 67, 0.15);\n",
              "      fill: #174EA6;\n",
              "    }\n",
              "\n",
              "    [theme=dark] .colab-df-convert {\n",
              "      background-color: #3B4455;\n",
              "      fill: #D2E3FC;\n",
              "    }\n",
              "\n",
              "    [theme=dark] .colab-df-convert:hover {\n",
              "      background-color: #434B5C;\n",
              "      box-shadow: 0px 1px 3px 1px rgba(0, 0, 0, 0.15);\n",
              "      filter: drop-shadow(0px 1px 2px rgba(0, 0, 0, 0.3));\n",
              "      fill: #FFFFFF;\n",
              "    }\n",
              "  </style>\n",
              "\n",
              "      <script>\n",
              "        const buttonEl =\n",
              "          document.querySelector('#df-d914f620-5cd6-45df-9fb5-3904d5c51c8f button.colab-df-convert');\n",
              "        buttonEl.style.display =\n",
              "          google.colab.kernel.accessAllowed ? 'block' : 'none';\n",
              "\n",
              "        async function convertToInteractive(key) {\n",
              "          const element = document.querySelector('#df-d914f620-5cd6-45df-9fb5-3904d5c51c8f');\n",
              "          const dataTable =\n",
              "            await google.colab.kernel.invokeFunction('convertToInteractive',\n",
              "                                                     [key], {});\n",
              "          if (!dataTable) return;\n",
              "\n",
              "          const docLinkHtml = 'Like what you see? Visit the ' +\n",
              "            '<a target=\"_blank\" href=https://colab.research.google.com/notebooks/data_table.ipynb>data table notebook</a>'\n",
              "            + ' to learn more about interactive tables.';\n",
              "          element.innerHTML = '';\n",
              "          dataTable['output_type'] = 'display_data';\n",
              "          await google.colab.output.renderOutput(dataTable, element);\n",
              "          const docLink = document.createElement('div');\n",
              "          docLink.innerHTML = docLinkHtml;\n",
              "          element.appendChild(docLink);\n",
              "        }\n",
              "      </script>\n",
              "    </div>\n",
              "  </div>\n",
              "  "
            ]
          },
          "metadata": {},
          "execution_count": 16
        }
      ]
    },
    {
      "cell_type": "code",
      "source": [
        "labels = df['Sentiment']\n",
        "features = df['sentence']"
      ],
      "metadata": {
        "id": "P3EUU-DNzVaR"
      },
      "execution_count": 17,
      "outputs": []
    },
    {
      "cell_type": "markdown",
      "source": [
        "## Tokenizer\n",
        "using subword tokenizer implementation from Bert model"
      ],
      "metadata": {
        "id": "CTu4-W8ORGAA"
      }
    },
    {
      "cell_type": "code",
      "execution_count": 18,
      "metadata": {
        "id": "QToMl0NanZPr",
        "colab": {
          "base_uri": "https://localhost:8080/",
          "height": 35
        },
        "outputId": "fb661ae5-0bfd-41e8-c06d-a1ad8328b2a6"
      },
      "outputs": [
        {
          "output_type": "execute_result",
          "data": {
            "text/plain": [
              "'./ted_hrlr_translate_pt_en_converter.zip'"
            ],
            "application/vnd.google.colaboratory.intrinsic+json": {
              "type": "string"
            }
          },
          "metadata": {},
          "execution_count": 18
        }
      ],
      "source": [
        "model_name = 'ted_hrlr_translate_pt_en_converter'\n",
        "tf.keras.utils.get_file(\n",
        "    f'{model_name}.zip',\n",
        "    f'https://storage.googleapis.com/download.tensorflow.org/models/{model_name}.zip',\n",
        "    cache_dir='.', cache_subdir='', extract=True\n",
        ")"
      ]
    },
    {
      "cell_type": "code",
      "execution_count": 19,
      "metadata": {
        "id": "h5dbGnPXnuI1"
      },
      "outputs": [],
      "source": [
        "tokenizers = tf.saved_model.load(model_name)"
      ]
    },
    {
      "cell_type": "markdown",
      "metadata": {
        "id": "CexgkIS1lzdt"
      },
      "source": [
        "The `tf.saved_model` contains two text tokenizers, one for English and one for Portuguese. We just need the English one"
      ]
    },
    {
      "cell_type": "code",
      "execution_count": 20,
      "metadata": {
        "id": "s-PCJijfcZ9_",
        "colab": {
          "base_uri": "https://localhost:8080/"
        },
        "outputId": "2dafce88-07a5-4415-9628-f3b6ecf8723e"
      },
      "outputs": [
        {
          "output_type": "execute_result",
          "data": {
            "text/plain": [
              "['detokenize',\n",
              " 'get_reserved_tokens',\n",
              " 'get_vocab_path',\n",
              " 'get_vocab_size',\n",
              " 'lookup',\n",
              " 'tokenize',\n",
              " 'tokenizer',\n",
              " 'vocab']"
            ]
          },
          "metadata": {},
          "execution_count": 20
        }
      ],
      "source": [
        "[item for item in dir(tokenizers.en) if not item.startswith('_')]"
      ]
    },
    {
      "cell_type": "code",
      "source": [
        "sample = features.sample(n=5)\n",
        "sample"
      ],
      "metadata": {
        "colab": {
          "base_uri": "https://localhost:8080/"
        },
        "id": "W6ixK1WW0I4q",
        "outputId": "3d4763b2-c582-4f1d-fdb6-45dd9b382aa2"
      },
      "execution_count": 21,
      "outputs": [
        {
          "output_type": "execute_result",
          "data": {
            "text/plain": [
              "57799    @ Rainbow6Game Please FIX YOUR GAME! I'm from ...\n",
              "11023    August 14. There are still no release dates or...\n",
              "32244    Ruining my life by learning... Twitch.tv / quirky\n",
              "71250    @ GhostRecon Almost all carry handles for back...\n",
              "40170    @ EA _ DICE Please make a mobile version of Ba...\n",
              "Name: sentence, dtype: object"
            ]
          },
          "metadata": {},
          "execution_count": 21
        }
      ]
    },
    {
      "cell_type": "code",
      "execution_count": 22,
      "metadata": {
        "id": "z_gPC5iwFXfU",
        "colab": {
          "base_uri": "https://localhost:8080/"
        },
        "outputId": "e3f5e3a5-ca4a-464e-d8ea-c62fa57fe008"
      },
      "outputs": [
        {
          "output_type": "stream",
          "name": "stdout",
          "text": [
            "@ Rainbow6Game Please FIX YOUR GAME! I'm from PlayStation the servers are so gy!\n"
          ]
        }
      ],
      "source": [
        "text_sample = sample.iloc[0]\n",
        "print(text_sample)"
      ]
    },
    {
      "cell_type": "code",
      "execution_count": 23,
      "metadata": {
        "id": "uSkM7z8JFaVO",
        "colab": {
          "base_uri": "https://localhost:8080/"
        },
        "outputId": "d05ea3ab-fead-44be-d19f-3ef5bc33c371"
      },
      "outputs": [
        {
          "output_type": "stream",
          "name": "stdout",
          "text": [
            "Padded and encoded embeddings:\n",
            "[2, 31, 1470, 6401, 1163, 5140, 1572, 1102, 1381, 135, 1112, 4, 45, 9, 49, 109, 3372, 2982, 71, 6307, 88, 86, 82, 43, 240, 4, 3]\n",
            "[2, 4349, 1850, 15, 96, 86, 235, 154, 1903, 4658, 113, 3669, 15, 2171, 1745, 74, 296, 95, 119, 157, 193, 2301, 3456, 4312, 3746, 2418, 470, 15, 154, 297, 13, 6762, 1722, 2096, 85, 71, 599, 14, 130, 15, 15, 1765, 261, 14, 1004, 1947, 310, 4, 15, 31, 3372, 2982, 31, 60, 3896, 138, 230, 3]\n",
            "[2, 54, 6013, 1547, 99, 183, 118, 507, 15, 15, 15, 56, 1325, 5514, 15, 1433, 16, 53, 6013, 5180, 240, 3]\n",
            "[2, 31, 43, 5502, 773, 966, 6407, 384, 101, 1808, 2664, 88, 85, 193, 5540, 88, 86, 262, 4414, 13, 172, 190, 375, 142, 2242, 13, 2221, 79, 86, 349, 95, 6157, 81, 77, 71, 1149, 323, 13, 8, 166, 45, 127, 106, 73, 125, 121, 74, 116, 142, 773, 1640, 75, 810, 79, 73, 102, 6539, 135, 193, 5540, 73, 71, 193, 74, 71, 142, 773, 15, 3]\n",
            "[2, 31, 41, 303, 35, 40, 3168, 1102, 161, 37, 1148, 1695, 74, 2312, 6438, 21, 13, 76, 127, 97, 71, 1345, 1148, 43, 2199, 138, 144, 310, 3429, 3]\n"
          ]
        }
      ],
      "source": [
        "encoded = tokenizers.en.tokenize(sample)\n",
        "# print(encoded)\n",
        "print('Padded and encoded embeddings:')\n",
        "for row in encoded.to_list():\n",
        "  print(row)"
      ]
    },
    {
      "cell_type": "markdown",
      "source": [
        "The padded 2 and 3 stands for [START] and [END]"
      ],
      "metadata": {
        "id": "_YBokPtCSfCT"
      }
    },
    {
      "cell_type": "code",
      "source": [
        "encoded[:, :128]"
      ],
      "metadata": {
        "colab": {
          "base_uri": "https://localhost:8080/"
        },
        "id": "7VrTDyW5xikX",
        "outputId": "e636cd03-acdb-46c6-bce3-a138bffe098a"
      },
      "execution_count": 25,
      "outputs": [
        {
          "output_type": "execute_result",
          "data": {
            "text/plain": [
              "<tf.RaggedTensor [[2, 31, 1470, 6401, 1163, 5140, 1572, 1102, 1381, 135, 1112, 4, 45, 9, 49,\n",
              "  109, 3372, 2982, 71, 6307, 88, 86, 82, 43, 240, 4, 3]                    ,\n",
              " [2, 4349, 1850, 15, 96, 86, 235, 154, 1903, 4658, 113, 3669, 15, 2171,\n",
              "  1745, 74, 296, 95, 119, 157, 193, 2301, 3456, 4312, 3746, 2418, 470, 15,\n",
              "  154, 297, 13, 6762, 1722, 2096, 85, 71, 599, 14, 130, 15, 15, 1765, 261,\n",
              "  14, 1004, 1947, 310, 4, 15, 31, 3372, 2982, 31, 60, 3896, 138, 230, 3]  ,\n",
              " [2, 54, 6013, 1547, 99, 183, 118, 507, 15, 15, 15, 56, 1325, 5514, 15,\n",
              "  1433, 16, 53, 6013, 5180, 240, 3]                                    ,\n",
              " [2, 31, 43, 5502, 773, 966, 6407, 384, 101, 1808, 2664, 88, 85, 193, 5540,\n",
              "  88, 86, 262, 4414, 13, 172, 190, 375, 142, 2242, 13, 2221, 79, 86, 349,\n",
              "  95, 6157, 81, 77, 71, 1149, 323, 13, 8, 166, 45, 127, 106, 73, 125, 121,\n",
              "  74, 116, 142, 773, 1640, 75, 810, 79, 73, 102, 6539, 135, 193, 5540, 73,\n",
              "  71, 193, 74, 71, 142, 773, 15, 3]                                        ,\n",
              " [2, 31, 41, 303, 35, 40, 3168, 1102, 161, 37, 1148, 1695, 74, 2312, 6438,\n",
              "  21, 13, 76, 127, 97, 71, 1345, 1148, 43, 2199, 138, 144, 310, 3429, 3]  ]>"
            ]
          },
          "metadata": {},
          "execution_count": 25
        }
      ]
    },
    {
      "cell_type": "code",
      "execution_count": 26,
      "metadata": {
        "id": "-CFS5aAxFdpP",
        "colab": {
          "base_uri": "https://localhost:8080/"
        },
        "outputId": "eae30343-88fc-46ae-9ec1-bafebf0d8bc9"
      },
      "outputs": [
        {
          "output_type": "stream",
          "name": "stdout",
          "text": [
            "Original text:\n",
            "@ rainbow6game please fix your game ! i ' m from playstation the servers are so gy !\n",
            "august 14 . there are still no release dates or prices . hidden lack of information about how well backward compatibility works . no real , informative videos for the line - up . . worst next - generation marketing ever ! . @ playstation @ xboxinge\n",
            "ruining my life by learning . . . twitch . tv / quirky\n",
            "@ ghostrecon almost all carry handles for backpacks are too fluid , even most light vests , hopefully you are thinking about fixing this in the near future , & also i would like to see more of these vest types that allow you to attach your backpack to the back of the vest .\n",
            "@ ea _ dice please make a mobile version of battlefield 4 , it would be the greatest mobile gaming has ever achieved\n"
          ]
        }
      ],
      "source": [
        "round_trip = tokenizers.en.detokenize(encoded[:, :128])\n",
        "\n",
        "print('Original text:')\n",
        "for line in round_trip.numpy():\n",
        "  print(line.decode('utf-8'))"
      ]
    },
    {
      "cell_type": "markdown",
      "metadata": {
        "id": "-Yb35sTJcZq9"
      },
      "source": [
        "## Set up a data pipeline with `tf.data`"
      ]
    },
    {
      "cell_type": "markdown",
      "metadata": {
        "id": "JZHsns5obJhN"
      },
      "source": [
        "The following function takes batches of text as input, and converts them to a format suitable for training. \n",
        "\n",
        "1. It tokenizes them into ragged batches.\n",
        "2. It trims each to be no longer than `MAX_TOKENS`.\n",
        "3. It splits the output (English) tokens into inputs and labels. THese shifted by one step so that the `label` at each location is the id of the next token.\n",
        "4. It converts the `RaggedTensor`s to padded dense `Tensor`s.\n",
        "5. It returns an `(inputs, labels)` pair.\n",
        "\n",
        "NOTE: We will bypass this method in the batch making area and utilize our own method since we are not using `tf.data`"
      ]
    },
    {
      "cell_type": "markdown",
      "source": [
        "# **Problem here!!!**\n",
        "Cannot prepare batches as required. I don't know how to fix it."
      ],
      "metadata": {
        "id": "bcjigvyBTNxA"
      }
    },
    {
      "cell_type": "code",
      "execution_count": 27,
      "metadata": {
        "id": "6shgzEck3FiV"
      },
      "outputs": [],
      "source": [
        "MAX_TOKENS=128\n",
        "def prepare_batch(en): # not actually preparing batches\n",
        "    en = tokenizers.en.tokenize(en)\n",
        "    en = en[:, :(MAX_TOKENS+1)] # pads with `.` if the sentence is less than 128 words and strips if more than 128 words\n",
        "    # print(en)\n",
        "    en_inputs = en[:, :-1].to_tensor()\n",
        "    return en"
      ]
    },
    {
      "cell_type": "code",
      "source": [
        "tokenized_sentences = prepare_batch(features)"
      ],
      "metadata": {
        "id": "wtJvpZPFf49x"
      },
      "execution_count": 28,
      "outputs": []
    },
    {
      "cell_type": "code",
      "source": [
        "list_tokenized = tokenized_sentences.to_list()"
      ],
      "metadata": {
        "id": "90NMeq3-zE5E"
      },
      "execution_count": 29,
      "outputs": []
    },
    {
      "cell_type": "code",
      "source": [
        "len(list_tokenized), len(labels)"
      ],
      "metadata": {
        "id": "hMN1ugKPgHKK",
        "colab": {
          "base_uri": "https://localhost:8080/"
        },
        "outputId": "aa51764c-c55f-4e58-d036-439cfdcc8900"
      },
      "execution_count": 30,
      "outputs": [
        {
          "output_type": "execute_result",
          "data": {
            "text/plain": [
              "(43012, 43012)"
            ]
          },
          "metadata": {},
          "execution_count": 30
        }
      ]
    },
    {
      "cell_type": "code",
      "source": [
        "for i in range(len(list_tokenized)-43000):\n",
        "  print(list_tokenized[i], labels.iloc[i])"
      ],
      "metadata": {
        "colab": {
          "base_uri": "https://localhost:8080/"
        },
        "id": "yP2WIe3tl5ie",
        "outputId": "ec658c0d-e9ee-4530-b367-46d2a99a0c07"
      },
      "execution_count": 31,
      "outputs": [
        {
          "output_type": "stream",
          "name": "stdout",
          "text": [
            "[2, 55, 6399, 504, 80, 2277, 54, 6013, 1547, 71, 994, 43, 2199, 138, 234, 97, 15, 192, 86, 1213, 343, 77, 4116, 138, 92, 5320, 138, 81, 30, 4, 15, 15, 745, 89, 76, 100, 37, 43, 4096, 113, 93, 1113, 3826, 42, 1192, 88, 15, 3] 0\n",
            "[2, 94, 9, 56, 1009, 73, 528, 3] 1\n",
            "[2, 3] 0\n",
            "[2, 45, 89, 1486, 75, 71, 3694, 343, 45, 732, 13, 136, 110, 528, 2663, 155, 171, 2312, 6438, 58, 13, 86, 121, 105, 2626, 6572, 72, 166, 89, 37, 241, 5763, 15, 3] 0\n",
            "[2, 525, 875, 15, 15, 15, 3] 1\n",
            "[2, 107, 271, 15, 56, 271, 16, 19, 5949, 4562, 684, 677, 107, 271, 15, 56, 271, 16, 20, 303, 1223, 787, 504, 1374, 484, 90, 71, 115, 1283, 89, 83, 317, 73, 71, 6273, 43, 2365, 92, 71, 5840, 56, 1548, 3916, 258, 30, 81, 80, 192, 91, 269, 9, 56, 106, 85, 271, 4568, 1013, 13, 83, 3499, 93, 167, 75, 86, 269, 9, 56, 1528, 15, 107, 271, 15, 56, 271, 16, 20, 303, 1223, 787, 504, 1374, 484, 3] 0\n",
            "[2, 31, 41, 303, 31, 41, 2489, 5934, 269, 1192, 392, 3310, 99, 55, 4895, 2199, 230, 6237, 3917, 80, 51, 1699, 1012, 1240, 3] 0\n",
            "[2, 202, 79, 31, 315, 1644, 601, 2007, 85, 108, 174, 1067, 5000, 2367, 6652, 88, 15, 52, 483, 15, 1693, 15, 3456, 16, 49, 1205, 1164, 240, 1509, 1800, 258, 2204, 269, 3] 1\n",
            "[2, 107, 79, 9, 105, 98, 100, 595, 100, 315, 2159, 601, 2007, 2329, 13, 45, 91, 269, 9, 56, 403, 15, 3] 1\n",
            "[2, 31, 41, 2488, 1174, 601, 2265, 92, 42, 388, 6432, 1148, 45, 605, 2034, 130, 101, 1550, 41, 269, 5576, 3916, 88, 110, 72, 149, 269, 68, 1, 56, 141, 37, 2537, 85, 76, 76, 235, 68, 55, 812, 140, 2029, 225, 300, 30, 3] 0\n",
            "[2, 1, 2159, 5155, 159, 528, 80, 1762, 205, 13, 87, 144, 968, 528, 80, 298, 471, 15, 1, 15, 15, 15, 55, 459, 795, 49, 388, 240, 2199, 2007, 376, 15, 3] 1\n",
            "[2, 49, 5113, 5113, 5113, 269, 269, 269, 269, 269, 269, 269, 269, 269, 59, 271, 1192, 92, 1184, 15, 52, 483, 15, 1693, 15, 3456, 16, 53, 240, 1164, 504, 1044, 3192, 392, 1305, 3] 0\n"
          ]
        }
      ]
    },
    {
      "cell_type": "markdown",
      "metadata": {
        "id": "7e7hKcxn6-zd"
      },
      "source": [
        "## Copied code \n",
        "we need to change it up a bit so we can use same definitions for our own classification problem"
      ]
    },
    {
      "cell_type": "markdown",
      "metadata": {
        "id": "YS75Y-9-lkzn"
      },
      "source": [
        "### Define the Embedding and Positional encoding"
      ]
    },
    {
      "cell_type": "code",
      "execution_count": 32,
      "metadata": {
        "id": "1Rz82wEs5biZ"
      },
      "outputs": [],
      "source": [
        "def positional_encoding(length, depth):\n",
        "  depth = depth/2\n",
        "\n",
        "  positions = np.arange(length)[:, np.newaxis]     # (seq, 1)\n",
        "  depths = np.arange(depth)[np.newaxis, :]/depth   # (1, depth)\n",
        "  \n",
        "  angle_rates = 1 / (10000**depths)         # (1, depth)\n",
        "  angle_rads = positions * angle_rates      # (pos, depth)\n",
        "\n",
        "  pos_encoding = np.concatenate(\n",
        "      [np.sin(angle_rads), np.cos(angle_rads)],\n",
        "      axis=-1) \n",
        "\n",
        "  return tf.cast(pos_encoding, dtype=tf.float32)"
      ]
    },
    {
      "cell_type": "code",
      "source": [
        "temp_encoding = positional_encoding(length=2048, depth=512)"
      ],
      "metadata": {
        "id": "z97IJsy575hJ"
      },
      "execution_count": 33,
      "outputs": []
    },
    {
      "cell_type": "code",
      "source": [
        "temp_encoding[tf.newaxis, :128, :].shape"
      ],
      "metadata": {
        "colab": {
          "base_uri": "https://localhost:8080/"
        },
        "id": "LmtqpoFW95xX",
        "outputId": "a175ffa1-349c-44a7-b5f6-212c2755fd23"
      },
      "execution_count": 34,
      "outputs": [
        {
          "output_type": "execute_result",
          "data": {
            "text/plain": [
              "TensorShape([1, 128, 512])"
            ]
          },
          "metadata": {},
          "execution_count": 34
        }
      ]
    },
    {
      "cell_type": "code",
      "execution_count": 35,
      "metadata": {
        "id": "838tmM1cm9cB"
      },
      "outputs": [],
      "source": [
        "class PositionalEmbedding(tf.keras.layers.Layer):\n",
        "  def __init__(self, vocab_size, d_model):\n",
        "    super().__init__()\n",
        "    self.d_model = d_model\n",
        "    self.embedding = tf.keras.layers.Embedding(vocab_size, d_model, mask_zero=True) \n",
        "    self.pos_encoding = positional_encoding(length=2048, depth=d_model)\n",
        "\n",
        "  def compute_mask(self, *args, **kwargs):\n",
        "    return self.embedding.compute_mask(*args, **kwargs)\n",
        "\n",
        "  def call(self, x):\n",
        "    length = tf.shape(x)[1]\n",
        "    x = self.embedding(x)\n",
        "    x *= tf.math.sqrt(tf.cast(self.d_model, tf.float32))\n",
        "    x = x + self.pos_encoding[tf.newaxis, :length, :]\n",
        "    return x # (batch_size, length-of-signal, 512)\n"
      ]
    },
    {
      "cell_type": "code",
      "source": [
        "x = np.zeros((400, 128, 512))\n",
        "y = np.zeros((1, 128, 512))"
      ],
      "metadata": {
        "id": "j69lsiUpBDAe"
      },
      "execution_count": 36,
      "outputs": []
    },
    {
      "cell_type": "code",
      "source": [
        "(x + y).shape"
      ],
      "metadata": {
        "colab": {
          "base_uri": "https://localhost:8080/"
        },
        "id": "brYkDkwXBK-7",
        "outputId": "a4ef1683-a068-4df0-b71a-a56c3f2f527e"
      },
      "execution_count": 38,
      "outputs": [
        {
          "output_type": "execute_result",
          "data": {
            "text/plain": [
              "(400, 128, 512)"
            ]
          },
          "metadata": {},
          "execution_count": 38
        }
      ]
    },
    {
      "cell_type": "code",
      "source": [
        "tf.cast(512, tf.float32)"
      ],
      "metadata": {
        "colab": {
          "base_uri": "https://localhost:8080/"
        },
        "id": "Fbrswnyk9EjM",
        "outputId": "c61712b3-fcc1-45fb-9ec0-c14792fe27f1"
      },
      "execution_count": 39,
      "outputs": [
        {
          "output_type": "execute_result",
          "data": {
            "text/plain": [
              "<tf.Tensor: shape=(), dtype=float32, numpy=512.0>"
            ]
          },
          "metadata": {},
          "execution_count": 39
        }
      ]
    },
    {
      "cell_type": "code",
      "source": [
        "tokenizers.en.get_vocab_size()"
      ],
      "metadata": {
        "colab": {
          "base_uri": "https://localhost:8080/"
        },
        "id": "IBmeI00p3PY9",
        "outputId": "1a60a8f5-d8c6-462b-9fa4-5876f34a931f"
      },
      "execution_count": 40,
      "outputs": [
        {
          "output_type": "execute_result",
          "data": {
            "text/plain": [
              "<tf.Tensor: shape=(), dtype=int32, numpy=7010>"
            ]
          },
          "metadata": {},
          "execution_count": 40
        }
      ]
    },
    {
      "cell_type": "code",
      "source": [
        "temp_layer = tf.keras.layers.Embedding(7010, 512, mask_zero=True)\n",
        "# help(temp_layer)"
      ],
      "metadata": {
        "id": "g6t0WrNH21Ey"
      },
      "execution_count": 42,
      "outputs": []
    },
    {
      "cell_type": "code",
      "source": [
        "temp_model = tf.keras.Sequential()\n",
        "temp_layer = tf.keras.layers.Embedding(1000, 64, input_length=10, mask_zero=True)\n",
        "temp_model.add(temp_layer)\n",
        "# The model will take as input an integer matrix of size (batch,\n",
        "# input_length), and the largest integer (i.e. word index) in the input\n",
        "# should be no larger than 999 (vocabulary size).\n",
        "# Now model.output_shape is (None, 10, 64), where `None` is the batch\n",
        "# dimension.\n",
        "input_array = np.random.randint(1000, size=(1, 10))\n",
        "temp_model.compile('rmsprop', 'mse')\n",
        "output_array = temp_model.predict(input_array)\n",
        "# print(output_array)\n",
        "print(output_array.shape)\n",
        "#(1, 10, 64)"
      ],
      "metadata": {
        "colab": {
          "base_uri": "https://localhost:8080/"
        },
        "id": "cs5TYJmt4126",
        "outputId": "aa4cc434-73c2-46e7-86bd-abb6be196dbd"
      },
      "execution_count": 43,
      "outputs": [
        {
          "output_type": "stream",
          "name": "stdout",
          "text": [
            "1/1 [==============================] - 0s 84ms/step\n",
            "(1, 10, 64)\n"
          ]
        }
      ]
    },
    {
      "cell_type": "code",
      "source": [
        "# print(temp_layer.compute_mask(input_array, mask_zero=True)) # would not work as this is just for forwarding the compute_mask"
      ],
      "metadata": {
        "id": "MB4eo7nb5F4_"
      },
      "execution_count": 66,
      "outputs": []
    },
    {
      "cell_type": "code",
      "execution_count": 44,
      "metadata": {
        "id": "tfz-EaCEDfUJ",
        "colab": {
          "base_uri": "https://localhost:8080/"
        },
        "outputId": "b04be24a-22e4-4c0f-8f20-d31f2e4acd96"
      },
      "outputs": [
        {
          "output_type": "execute_result",
          "data": {
            "text/plain": [
              "<__main__.PositionalEmbedding at 0x7fd55d6e60d0>"
            ]
          },
          "metadata": {},
          "execution_count": 44
        }
      ],
      "source": [
        "embed_en = PositionalEmbedding(vocab_size=tokenizers.en.get_vocab_size(), d_model=512)\n",
        "embed_en"
      ]
    },
    {
      "cell_type": "code",
      "source": [
        "encoded.to_tensor()"
      ],
      "metadata": {
        "colab": {
          "base_uri": "https://localhost:8080/"
        },
        "id": "3SFJD1RjHF-G",
        "outputId": "9e1850e9-c3b2-4c61-b579-e12af1f956c3"
      },
      "execution_count": 65,
      "outputs": [
        {
          "output_type": "execute_result",
          "data": {
            "text/plain": [
              "<tf.Tensor: shape=(5, 69), dtype=int64, numpy=\n",
              "array([[   2,   31, 1470, 6401, 1163, 5140, 1572, 1102, 1381,  135, 1112,\n",
              "           4,   45,    9,   49,  109, 3372, 2982,   71, 6307,   88,   86,\n",
              "          82,   43,  240,    4,    3,    0,    0,    0,    0,    0,    0,\n",
              "           0,    0,    0,    0,    0,    0,    0,    0,    0,    0,    0,\n",
              "           0,    0,    0,    0,    0,    0,    0,    0,    0,    0,    0,\n",
              "           0,    0,    0,    0,    0,    0,    0,    0,    0,    0,    0,\n",
              "           0,    0,    0],\n",
              "       [   2, 4349, 1850,   15,   96,   86,  235,  154, 1903, 4658,  113,\n",
              "        3669,   15, 2171, 1745,   74,  296,   95,  119,  157,  193, 2301,\n",
              "        3456, 4312, 3746, 2418,  470,   15,  154,  297,   13, 6762, 1722,\n",
              "        2096,   85,   71,  599,   14,  130,   15,   15, 1765,  261,   14,\n",
              "        1004, 1947,  310,    4,   15,   31, 3372, 2982,   31,   60, 3896,\n",
              "         138,  230,    3,    0,    0,    0,    0,    0,    0,    0,    0,\n",
              "           0,    0,    0],\n",
              "       [   2,   54, 6013, 1547,   99,  183,  118,  507,   15,   15,   15,\n",
              "          56, 1325, 5514,   15, 1433,   16,   53, 6013, 5180,  240,    3,\n",
              "           0,    0,    0,    0,    0,    0,    0,    0,    0,    0,    0,\n",
              "           0,    0,    0,    0,    0,    0,    0,    0,    0,    0,    0,\n",
              "           0,    0,    0,    0,    0,    0,    0,    0,    0,    0,    0,\n",
              "           0,    0,    0,    0,    0,    0,    0,    0,    0,    0,    0,\n",
              "           0,    0,    0],\n",
              "       [   2,   31,   43, 5502,  773,  966, 6407,  384,  101, 1808, 2664,\n",
              "          88,   85,  193, 5540,   88,   86,  262, 4414,   13,  172,  190,\n",
              "         375,  142, 2242,   13, 2221,   79,   86,  349,   95, 6157,   81,\n",
              "          77,   71, 1149,  323,   13,    8,  166,   45,  127,  106,   73,\n",
              "         125,  121,   74,  116,  142,  773, 1640,   75,  810,   79,   73,\n",
              "         102, 6539,  135,  193, 5540,   73,   71,  193,   74,   71,  142,\n",
              "         773,   15,    3],\n",
              "       [   2,   31,   41,  303,   35,   40, 3168, 1102,  161,   37, 1148,\n",
              "        1695,   74, 2312, 6438,   21,   13,   76,  127,   97,   71, 1345,\n",
              "        1148,   43, 2199,  138,  144,  310, 3429,    3,    0,    0,    0,\n",
              "           0,    0,    0,    0,    0,    0,    0,    0,    0,    0,    0,\n",
              "           0,    0,    0,    0,    0,    0,    0,    0,    0,    0,    0,\n",
              "           0,    0,    0,    0,    0,    0,    0,    0,    0,    0,    0,\n",
              "           0,    0,    0]])>"
            ]
          },
          "metadata": {},
          "execution_count": 65
        }
      ]
    },
    {
      "cell_type": "code",
      "source": [
        "# This is where the error pops up. I assume it is because of the way we are preparing batches.\n",
        "\n",
        "# embed_en(encoded)\n",
        "embed_en(encoded.to_tensor()).shape"
      ],
      "metadata": {
        "colab": {
          "base_uri": "https://localhost:8080/"
        },
        "id": "l3M1i9ThT5cN",
        "outputId": "ba54b0cf-5d5d-44bf-d9d7-0768cd266a62"
      },
      "execution_count": 60,
      "outputs": [
        {
          "output_type": "execute_result",
          "data": {
            "text/plain": [
              "TensorShape([5, 69, 512])"
            ]
          },
          "metadata": {},
          "execution_count": 60
        }
      ]
    },
    {
      "cell_type": "markdown",
      "metadata": {
        "id": "nLjScSWQv9M5"
      },
      "source": [
        "### Define the feed forward network"
      ]
    },
    {
      "cell_type": "markdown",
      "metadata": {
        "id": "pz0HBopX_VdU"
      },
      "source": [
        "Define a function for the point-wise feed-forward network that you'll use later."
      ]
    },
    {
      "cell_type": "markdown",
      "metadata": {
        "id": "0Yb-IV0Nlzd0"
      },
      "source": [
        "The network consists of two linear layers (`tf.keras.layers.Dense`) with a ReLU activation in-between:"
      ]
    },
    {
      "cell_type": "code",
      "execution_count": 62,
      "metadata": {
        "id": "ET7xLt0yCT6Z"
      },
      "outputs": [],
      "source": [
        "def point_wise_feed_forward_network(\n",
        "  d_model, # Input/output dimensionality.\n",
        "  dff # Inner-layer dimensionality.\n",
        "  ):\n",
        "\n",
        "  return tf.keras.Sequential([\n",
        "      tf.keras.layers.Dense(dff, activation='relu'),  # Shape `(batch_size, seq_len, dff)`.\n",
        "      tf.keras.layers.Dense(d_model)  # Shape `(batch_size, seq_len, d_model)`.\n",
        "  ])"
      ]
    },
    {
      "cell_type": "markdown",
      "metadata": {
        "id": "QFv-FNYUmvpn"
      },
      "source": [
        "### Define the encoder layer"
      ]
    },
    {
      "cell_type": "code",
      "execution_count": 63,
      "metadata": {
        "id": "ncyS-Ms3i2x_"
      },
      "outputs": [],
      "source": [
        "class EncoderLayer(tf.keras.layers.Layer):\n",
        "  def __init__(self,*,\n",
        "               d_model, # Input/output dimensionality.\n",
        "               num_attention_heads,\n",
        "               dff, # Inner-layer dimensionality.\n",
        "               dropout_rate=0.1\n",
        "               ):\n",
        "    super().__init__()\n",
        "\n",
        "\n",
        "    # Multi-head self-attention.\n",
        "    self.mha = tf.keras.layers.MultiHeadAttention(\n",
        "        num_heads=num_attention_heads,\n",
        "        key_dim=d_model, # Size of each attention head for query Q and key K.\n",
        "        dropout=dropout_rate,\n",
        "        )\n",
        "    # Point-wise feed-forward network.\n",
        "    self.ffn = point_wise_feed_forward_network(d_model, dff)\n",
        "\n",
        "    # Layer normalization.\n",
        "    self.layernorm1 = tf.keras.layers.LayerNormalization(epsilon=1e-6)\n",
        "    self.layernorm2 = tf.keras.layers.LayerNormalization(epsilon=1e-6)\n",
        "\n",
        "    # Dropout for the point-wise feed-forward network.\n",
        "    self.dropout1 = tf.keras.layers.Dropout(dropout_rate)\n",
        "\n",
        "  def call(self, x, training, mask):\n",
        "\n",
        "    # A boolean mask.\n",
        "    if mask is not None:\n",
        "      mask1 = mask[:, :, None]\n",
        "      mask2 = mask[:, None, :]\n",
        "      attention_mask = mask1 & mask2\n",
        "    else:\n",
        "      attention_mask = None\n",
        "\n",
        "    # Multi-head self-attention output (`tf.keras.layers.MultiHeadAttention `).\n",
        "    attn_output = self.mha(\n",
        "        query=x,  # Query Q tensor.\n",
        "        value=x,  # Value V tensor.\n",
        "        key=x,  # Key K tensor.\n",
        "        attention_mask=attention_mask, # A boolean mask that prevents attention to certain positions.\n",
        "        training=training, # A boolean indicating whether the layer should behave in training mode.\n",
        "        )\n",
        "\n",
        "    # Multi-head self-attention output after layer normalization and a residual/skip connection.\n",
        "    out1 = self.layernorm1(x + attn_output)  # Shape `(batch_size, input_seq_len, d_model)`\n",
        "\n",
        "    # Point-wise feed-forward network output.\n",
        "    ffn_output = self.ffn(out1)  # Shape `(batch_size, input_seq_len, d_model)`\n",
        "    ffn_output = self.dropout1(ffn_output, training=training)\n",
        "    # Point-wise feed-forward network output after layer normalization and a residual skip connection.\n",
        "    out2 = self.layernorm2(out1 + ffn_output)  # Shape `(batch_size, input_seq_len, d_model)`.\n",
        "\n",
        "    return out2"
      ]
    },
    {
      "cell_type": "code",
      "source": [
        "sample_encoder_layer = EncoderLayer(d_model=512, num_attention_heads=8, dff=2048)\n",
        "\n",
        "sample_encoder_layer_output = sample_encoder_layer(\n",
        "    tf.random.uniform((2, 3, 512)), training=False, mask=None)\n",
        "\n",
        "# Print the shape.\n",
        "print(sample_encoder_layer_output.shape)  # Shape `(batch_size, input_seq_len, d_model)`."
      ],
      "metadata": {
        "colab": {
          "base_uri": "https://localhost:8080/"
        },
        "id": "MVRCcp1oOe8H",
        "outputId": "e0e4c89a-362e-4ab1-9f39-262d7015fda5"
      },
      "execution_count": 67,
      "outputs": [
        {
          "output_type": "stream",
          "name": "stdout",
          "text": [
            "(2, 3, 512)\n"
          ]
        }
      ]
    },
    {
      "cell_type": "markdown",
      "metadata": {
        "id": "SE1H51Ajm0q1"
      },
      "source": [
        "### Define the encoder"
      ]
    },
    {
      "cell_type": "code",
      "execution_count": 78,
      "metadata": {
        "id": "jpEox7gJ8FCI"
      },
      "outputs": [],
      "source": [
        "class Encoder(tf.keras.layers.Layer):\n",
        "  def __init__(self,\n",
        "               *,\n",
        "               num_layers,\n",
        "               d_model, # Input/output dimensionality.\n",
        "               num_attention_heads,\n",
        "               dff, # Inner-layer dimensionality.\n",
        "               input_vocab_size, # Input (Portuguese) vocabulary size.\n",
        "               dropout_rate=0.1\n",
        "               ):\n",
        "    super().__init__()\n",
        "\n",
        "    self.d_model = d_model\n",
        "    self.num_layers = num_layers\n",
        "\n",
        "    # Embeddings + Positional encoding\n",
        "    self.pos_embedding = PositionalEmbedding(input_vocab_size, d_model)\n",
        "\n",
        "    # Encoder layers.\n",
        "    self.enc_layers = [\n",
        "        EncoderLayer(\n",
        "          d_model=d_model,\n",
        "          num_attention_heads=num_attention_heads,\n",
        "          dff=dff,\n",
        "          dropout_rate=dropout_rate)\n",
        "        for _ in range(num_layers)]\n",
        "    # Dropout.\n",
        "    self.dropout = tf.keras.layers.Dropout(dropout_rate)\n",
        "\n",
        "  # Masking.\n",
        "  def compute_mask(self, x, previous_mask=None):\n",
        "    return self.pos_embedding.compute_mask(x, previous_mask)\n",
        "\n",
        "  def call(self, x, training):\n",
        "\n",
        "    seq_len = tf.shape(x)[1]\n",
        "\n",
        "    # Sum up embeddings and positional encoding.\n",
        "    mask = self.compute_mask(x)\n",
        "    x = self.pos_embedding(x)  # Shape `(batch_size, input_seq_len, d_model)`.\n",
        "    # Add dropout.\n",
        "    x = self.dropout(x, training=training)\n",
        "\n",
        "    # N encoder layers.\n",
        "    for i in range(self.num_layers):\n",
        "      x = self.enc_layers[i](x, training, mask)\n",
        "\n",
        "    # experimental thing, may not work\n",
        "    x = tf.keras.layers.Dense(256, activation='sigmoid')(x)\n",
        "    x = tf.keras.layers.Dense(32, activation='sigmoid')(x)\n",
        "    x = tf.keras.layers.Dense(1, activation='sigmoid')(x)\n",
        "    return x  # Shape `(batch_size, input_seq_len, d_model)`."
      ]
    },
    {
      "cell_type": "code",
      "source": [
        "# Instantiate the encoder.\n",
        "sample_encoder = Encoder(\n",
        "    num_layers=8,\n",
        "    d_model=512,\n",
        "    num_attention_heads=8,\n",
        "    dff=2048,\n",
        "    input_vocab_size=8500)\n",
        "\n",
        "# Set the test input.\n",
        "sample_encoder_output = sample_encoder(encoded.to_tensor(),\n",
        "                                       training=False)\n",
        "\n",
        "# Print the shape.\n",
        "print(encoded.to_tensor().shape)\n",
        "print(sample_encoder_output.shape)  # Shape `(batch_size, input_seq_len, d_model)`."
      ],
      "metadata": {
        "id": "cp5jWxF9UaCa",
        "colab": {
          "base_uri": "https://localhost:8080/"
        },
        "outputId": "d129e17e-b081-4a5a-ea64-c0cf763d8087"
      },
      "execution_count": 80,
      "outputs": [
        {
          "output_type": "stream",
          "name": "stdout",
          "text": [
            "(5, 69)\n",
            "(5, 69, 1)\n"
          ]
        }
      ]
    },
    {
      "cell_type": "code",
      "source": [
        "model = tf.keras.Sequential([\n",
        "    tf.keras.layers.InputLayer(input_shape=(129)),\n",
        "    sample_encoder\n",
        "])"
      ],
      "metadata": {
        "id": "sNZlioSXQASk"
      },
      "execution_count": 100,
      "outputs": []
    },
    {
      "cell_type": "code",
      "source": [
        "model.summary()"
      ],
      "metadata": {
        "colab": {
          "base_uri": "https://localhost:8080/"
        },
        "id": "keArSCgQQVD3",
        "outputId": "219f850e-a4b1-4579-f879-9d054ac828cd"
      },
      "execution_count": 101,
      "outputs": [
        {
          "output_type": "stream",
          "name": "stdout",
          "text": [
            "Model: \"sequential_35\"\n",
            "_________________________________________________________________\n",
            " Layer (type)                Output Shape              Param #   \n",
            "=================================================================\n",
            " encoder_8 (Encoder)         multiple                  88377344  \n",
            "                                                                 \n",
            "=================================================================\n",
            "Total params: 88,377,344\n",
            "Trainable params: 88,377,344\n",
            "Non-trainable params: 0\n",
            "_________________________________________________________________\n"
          ]
        }
      ]
    },
    {
      "cell_type": "code",
      "source": [
        "[item for item in dir(model) if not item.startswith('_')]"
      ],
      "metadata": {
        "colab": {
          "base_uri": "https://localhost:8080/"
        },
        "collapsed": true,
        "id": "2qUsi8IIRfSF",
        "outputId": "af48a6da-fd1d-477a-da47-ca2aab6d248d"
      },
      "execution_count": 102,
      "outputs": [
        {
          "output_type": "execute_result",
          "data": {
            "text/plain": [
              "['activity_regularizer',\n",
              " 'add',\n",
              " 'add_loss',\n",
              " 'add_metric',\n",
              " 'add_update',\n",
              " 'add_variable',\n",
              " 'add_weight',\n",
              " 'build',\n",
              " 'built',\n",
              " 'call',\n",
              " 'compile',\n",
              " 'compiled_loss',\n",
              " 'compiled_metrics',\n",
              " 'compute_dtype',\n",
              " 'compute_loss',\n",
              " 'compute_mask',\n",
              " 'compute_metrics',\n",
              " 'compute_output_shape',\n",
              " 'compute_output_signature',\n",
              " 'count_params',\n",
              " 'distribute_strategy',\n",
              " 'dtype',\n",
              " 'dtype_policy',\n",
              " 'dynamic',\n",
              " 'evaluate',\n",
              " 'evaluate_generator',\n",
              " 'finalize_state',\n",
              " 'fit',\n",
              " 'fit_generator',\n",
              " 'from_config',\n",
              " 'get_config',\n",
              " 'get_input_at',\n",
              " 'get_input_mask_at',\n",
              " 'get_input_shape_at',\n",
              " 'get_layer',\n",
              " 'get_output_at',\n",
              " 'get_output_mask_at',\n",
              " 'get_output_shape_at',\n",
              " 'get_weight_paths',\n",
              " 'get_weights',\n",
              " 'history',\n",
              " 'inbound_nodes',\n",
              " 'input',\n",
              " 'input_mask',\n",
              " 'input_names',\n",
              " 'input_shape',\n",
              " 'input_spec',\n",
              " 'inputs',\n",
              " 'layers',\n",
              " 'load_weights',\n",
              " 'losses',\n",
              " 'make_predict_function',\n",
              " 'make_test_function',\n",
              " 'make_train_function',\n",
              " 'metrics',\n",
              " 'metrics_names',\n",
              " 'name',\n",
              " 'name_scope',\n",
              " 'non_trainable_variables',\n",
              " 'non_trainable_weights',\n",
              " 'optimizer',\n",
              " 'outbound_nodes',\n",
              " 'output',\n",
              " 'output_mask',\n",
              " 'output_names',\n",
              " 'output_shape',\n",
              " 'outputs',\n",
              " 'pop',\n",
              " 'predict',\n",
              " 'predict_function',\n",
              " 'predict_generator',\n",
              " 'predict_on_batch',\n",
              " 'predict_step',\n",
              " 'reset_metrics',\n",
              " 'reset_states',\n",
              " 'run_eagerly',\n",
              " 'save',\n",
              " 'save_spec',\n",
              " 'save_weights',\n",
              " 'set_weights',\n",
              " 'state_updates',\n",
              " 'stateful',\n",
              " 'stop_training',\n",
              " 'submodules',\n",
              " 'summary',\n",
              " 'supports_masking',\n",
              " 'test_function',\n",
              " 'test_on_batch',\n",
              " 'test_step',\n",
              " 'to_json',\n",
              " 'to_yaml',\n",
              " 'train_function',\n",
              " 'train_on_batch',\n",
              " 'train_step',\n",
              " 'train_tf_function',\n",
              " 'trainable',\n",
              " 'trainable_variables',\n",
              " 'trainable_weights',\n",
              " 'updates',\n",
              " 'variable_dtype',\n",
              " 'variables',\n",
              " 'weights',\n",
              " 'with_name_scope']"
            ]
          },
          "metadata": {},
          "execution_count": 102
        }
      ]
    },
    {
      "cell_type": "code",
      "source": [
        "model.input_shape"
      ],
      "metadata": {
        "colab": {
          "base_uri": "https://localhost:8080/"
        },
        "id": "5NCb-S8SR-a2",
        "outputId": "56ffeb9e-38ee-4687-8a61-b48cc47a623d"
      },
      "execution_count": 98,
      "outputs": [
        {
          "output_type": "execute_result",
          "data": {
            "text/plain": [
              "(None, 128)"
            ]
          },
          "metadata": {},
          "execution_count": 98
        }
      ]
    },
    {
      "cell_type": "code",
      "source": [
        "tokenized_sentences.to_tensor().shape # iske batches bnane hain..."
      ],
      "metadata": {
        "colab": {
          "base_uri": "https://localhost:8080/"
        },
        "id": "WXeuxu3ASHbu",
        "outputId": "eca34185-bd1e-4e68-fa15-adc8a183efb0"
      },
      "execution_count": 99,
      "outputs": [
        {
          "output_type": "execute_result",
          "data": {
            "text/plain": [
              "TensorShape([43012, 129])"
            ]
          },
          "metadata": {},
          "execution_count": 99
        }
      ]
    },
    {
      "cell_type": "code",
      "source": [],
      "metadata": {
        "id": "5-jTpAyBSPdP"
      },
      "execution_count": null,
      "outputs": []
    }
  ],
  "metadata": {
    "colab": {
      "collapsed_sections": [],
      "provenance": []
    },
    "kernelspec": {
      "display_name": "Python 3",
      "name": "python3"
    }
  },
  "nbformat": 4,
  "nbformat_minor": 0
}