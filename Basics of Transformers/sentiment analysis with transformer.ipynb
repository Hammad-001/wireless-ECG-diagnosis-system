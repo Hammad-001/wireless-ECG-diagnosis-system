{
  "cells": [
    {
      "cell_type": "markdown",
      "source": [
        "## Recreating the following for classification problem\n",
        "https://www.tensorflow.org/text/tutorials/transformer"
      ],
      "metadata": {
        "id": "aalYeMHGPiYU"
      }
    },
    {
      "cell_type": "markdown",
      "metadata": {
        "id": "OfV1batAwq9j"
      },
      "source": [
        "Need tensorflow-text for using the BERT model tokenizer"
      ]
    },
    {
      "cell_type": "code",
      "execution_count": 1,
      "metadata": {
        "id": "XFG0NDRu5mYQ",
        "colab": {
          "base_uri": "https://localhost:8080/"
        },
        "outputId": "2f9cdf6a-0a9e-4fbd-81a0-8962b8f992e4"
      },
      "outputs": [
        {
          "output_type": "stream",
          "name": "stdout",
          "text": [
            "\u001b[33mWARNING: Skipping tensorflow-text as it is not installed.\u001b[0m\n",
            "\u001b[K     |████████████████████████████████| 5.9 MB 9.4 MB/s \n",
            "\u001b[K     |████████████████████████████████| 578.0 MB 17 kB/s \n",
            "\u001b[K     |████████████████████████████████| 438 kB 77.5 MB/s \n",
            "\u001b[K     |████████████████████████████████| 1.7 MB 54.7 MB/s \n",
            "\u001b[K     |████████████████████████████████| 5.9 MB 47.7 MB/s \n",
            "\u001b[?25h"
          ]
        }
      ],
      "source": [
        "# Install the nightly version of TensorFlow to use the improved\n",
        "# masking support for `tf.keras.layers.MultiHeadAttention`.\n",
        "!pip uninstall -y -q tensorflow keras tensorflow-estimator tensorflow-text\n",
        "!pip install -q -U tensorflow-text tensorflow"
      ]
    },
    {
      "cell_type": "markdown",
      "metadata": {
        "id": "0GYpLBSjxJmG"
      },
      "source": [
        "Import the necessary modules:"
      ]
    },
    {
      "cell_type": "code",
      "execution_count": 2,
      "metadata": {
        "id": "JjJJyJTZYebt"
      },
      "outputs": [],
      "source": [
        "import os\n",
        "import pandas as pd\n",
        "import numpy as np\n",
        "import matplotlib.pyplot as plt\n",
        "import tensorflow as tf\n",
        "import tensorflow_text\n",
        "from sklearn.utils import shuffle "
      ]
    },
    {
      "cell_type": "markdown",
      "source": [
        "Doing necessary data preprocessing"
      ],
      "metadata": {
        "id": "i4T14r9fQead"
      }
    },
    {
      "cell_type": "code",
      "source": [
        "os.listdir('.')"
      ],
      "metadata": {
        "colab": {
          "base_uri": "https://localhost:8080/"
        },
        "id": "s5IzyXpYXTIO",
        "outputId": "82a4c218-c2c0-4752-c5d5-973e53d23bcd"
      },
      "execution_count": 3,
      "outputs": [
        {
          "output_type": "execute_result",
          "data": {
            "text/plain": [
              "['.config', 'twitter_training.csv', 'twitter_validation.csv', 'sample_data']"
            ]
          },
          "metadata": {},
          "execution_count": 3
        }
      ]
    },
    {
      "cell_type": "code",
      "source": [
        "training_data_loc = \"./twitter_training.csv\"\n",
        "val_data_loc = \"./twitter_validation.csv\""
      ],
      "metadata": {
        "id": "I07JCtVxyOWT"
      },
      "execution_count": 4,
      "outputs": []
    },
    {
      "cell_type": "code",
      "source": [
        "df = pd.read_csv(training_data_loc)\n",
        "df"
      ],
      "metadata": {
        "colab": {
          "base_uri": "https://localhost:8080/",
          "height": 424
        },
        "id": "QqCulADtyWDT",
        "outputId": "a72a5513-fcfd-461e-827a-5c4541ffe427"
      },
      "execution_count": 5,
      "outputs": [
        {
          "output_type": "execute_result",
          "data": {
            "text/plain": [
              "       2401  Borderlands  Positive  \\\n",
              "0      2401  Borderlands  Positive   \n",
              "1      2401  Borderlands  Positive   \n",
              "2      2401  Borderlands  Positive   \n",
              "3      2401  Borderlands  Positive   \n",
              "4      2401  Borderlands  Positive   \n",
              "...     ...          ...       ...   \n",
              "74676  9200       Nvidia  Positive   \n",
              "74677  9200       Nvidia  Positive   \n",
              "74678  9200       Nvidia  Positive   \n",
              "74679  9200       Nvidia  Positive   \n",
              "74680  9200       Nvidia  Positive   \n",
              "\n",
              "      im getting on borderlands and i will murder you all ,  \n",
              "0      I am coming to the borders and I will kill you...     \n",
              "1      im getting on borderlands and i will kill you ...     \n",
              "2      im coming on borderlands and i will murder you...     \n",
              "3      im getting on borderlands 2 and i will murder ...     \n",
              "4      im getting into borderlands and i can murder y...     \n",
              "...                                                  ...     \n",
              "74676  Just realized that the Windows partition of my...     \n",
              "74677  Just realized that my Mac window partition is ...     \n",
              "74678  Just realized the windows partition of my Mac ...     \n",
              "74679  Just realized between the windows partition of...     \n",
              "74680  Just like the windows partition of my Mac is l...     \n",
              "\n",
              "[74681 rows x 4 columns]"
            ],
            "text/html": [
              "\n",
              "  <div id=\"df-f70f5201-9fee-4429-ad8e-d0116320b038\">\n",
              "    <div class=\"colab-df-container\">\n",
              "      <div>\n",
              "<style scoped>\n",
              "    .dataframe tbody tr th:only-of-type {\n",
              "        vertical-align: middle;\n",
              "    }\n",
              "\n",
              "    .dataframe tbody tr th {\n",
              "        vertical-align: top;\n",
              "    }\n",
              "\n",
              "    .dataframe thead th {\n",
              "        text-align: right;\n",
              "    }\n",
              "</style>\n",
              "<table border=\"1\" class=\"dataframe\">\n",
              "  <thead>\n",
              "    <tr style=\"text-align: right;\">\n",
              "      <th></th>\n",
              "      <th>2401</th>\n",
              "      <th>Borderlands</th>\n",
              "      <th>Positive</th>\n",
              "      <th>im getting on borderlands and i will murder you all ,</th>\n",
              "    </tr>\n",
              "  </thead>\n",
              "  <tbody>\n",
              "    <tr>\n",
              "      <th>0</th>\n",
              "      <td>2401</td>\n",
              "      <td>Borderlands</td>\n",
              "      <td>Positive</td>\n",
              "      <td>I am coming to the borders and I will kill you...</td>\n",
              "    </tr>\n",
              "    <tr>\n",
              "      <th>1</th>\n",
              "      <td>2401</td>\n",
              "      <td>Borderlands</td>\n",
              "      <td>Positive</td>\n",
              "      <td>im getting on borderlands and i will kill you ...</td>\n",
              "    </tr>\n",
              "    <tr>\n",
              "      <th>2</th>\n",
              "      <td>2401</td>\n",
              "      <td>Borderlands</td>\n",
              "      <td>Positive</td>\n",
              "      <td>im coming on borderlands and i will murder you...</td>\n",
              "    </tr>\n",
              "    <tr>\n",
              "      <th>3</th>\n",
              "      <td>2401</td>\n",
              "      <td>Borderlands</td>\n",
              "      <td>Positive</td>\n",
              "      <td>im getting on borderlands 2 and i will murder ...</td>\n",
              "    </tr>\n",
              "    <tr>\n",
              "      <th>4</th>\n",
              "      <td>2401</td>\n",
              "      <td>Borderlands</td>\n",
              "      <td>Positive</td>\n",
              "      <td>im getting into borderlands and i can murder y...</td>\n",
              "    </tr>\n",
              "    <tr>\n",
              "      <th>...</th>\n",
              "      <td>...</td>\n",
              "      <td>...</td>\n",
              "      <td>...</td>\n",
              "      <td>...</td>\n",
              "    </tr>\n",
              "    <tr>\n",
              "      <th>74676</th>\n",
              "      <td>9200</td>\n",
              "      <td>Nvidia</td>\n",
              "      <td>Positive</td>\n",
              "      <td>Just realized that the Windows partition of my...</td>\n",
              "    </tr>\n",
              "    <tr>\n",
              "      <th>74677</th>\n",
              "      <td>9200</td>\n",
              "      <td>Nvidia</td>\n",
              "      <td>Positive</td>\n",
              "      <td>Just realized that my Mac window partition is ...</td>\n",
              "    </tr>\n",
              "    <tr>\n",
              "      <th>74678</th>\n",
              "      <td>9200</td>\n",
              "      <td>Nvidia</td>\n",
              "      <td>Positive</td>\n",
              "      <td>Just realized the windows partition of my Mac ...</td>\n",
              "    </tr>\n",
              "    <tr>\n",
              "      <th>74679</th>\n",
              "      <td>9200</td>\n",
              "      <td>Nvidia</td>\n",
              "      <td>Positive</td>\n",
              "      <td>Just realized between the windows partition of...</td>\n",
              "    </tr>\n",
              "    <tr>\n",
              "      <th>74680</th>\n",
              "      <td>9200</td>\n",
              "      <td>Nvidia</td>\n",
              "      <td>Positive</td>\n",
              "      <td>Just like the windows partition of my Mac is l...</td>\n",
              "    </tr>\n",
              "  </tbody>\n",
              "</table>\n",
              "<p>74681 rows × 4 columns</p>\n",
              "</div>\n",
              "      <button class=\"colab-df-convert\" onclick=\"convertToInteractive('df-f70f5201-9fee-4429-ad8e-d0116320b038')\"\n",
              "              title=\"Convert this dataframe to an interactive table.\"\n",
              "              style=\"display:none;\">\n",
              "        \n",
              "  <svg xmlns=\"http://www.w3.org/2000/svg\" height=\"24px\"viewBox=\"0 0 24 24\"\n",
              "       width=\"24px\">\n",
              "    <path d=\"M0 0h24v24H0V0z\" fill=\"none\"/>\n",
              "    <path d=\"M18.56 5.44l.94 2.06.94-2.06 2.06-.94-2.06-.94-.94-2.06-.94 2.06-2.06.94zm-11 1L8.5 8.5l.94-2.06 2.06-.94-2.06-.94L8.5 2.5l-.94 2.06-2.06.94zm10 10l.94 2.06.94-2.06 2.06-.94-2.06-.94-.94-2.06-.94 2.06-2.06.94z\"/><path d=\"M17.41 7.96l-1.37-1.37c-.4-.4-.92-.59-1.43-.59-.52 0-1.04.2-1.43.59L10.3 9.45l-7.72 7.72c-.78.78-.78 2.05 0 2.83L4 21.41c.39.39.9.59 1.41.59.51 0 1.02-.2 1.41-.59l7.78-7.78 2.81-2.81c.8-.78.8-2.07 0-2.86zM5.41 20L4 18.59l7.72-7.72 1.47 1.35L5.41 20z\"/>\n",
              "  </svg>\n",
              "      </button>\n",
              "      \n",
              "  <style>\n",
              "    .colab-df-container {\n",
              "      display:flex;\n",
              "      flex-wrap:wrap;\n",
              "      gap: 12px;\n",
              "    }\n",
              "\n",
              "    .colab-df-convert {\n",
              "      background-color: #E8F0FE;\n",
              "      border: none;\n",
              "      border-radius: 50%;\n",
              "      cursor: pointer;\n",
              "      display: none;\n",
              "      fill: #1967D2;\n",
              "      height: 32px;\n",
              "      padding: 0 0 0 0;\n",
              "      width: 32px;\n",
              "    }\n",
              "\n",
              "    .colab-df-convert:hover {\n",
              "      background-color: #E2EBFA;\n",
              "      box-shadow: 0px 1px 2px rgba(60, 64, 67, 0.3), 0px 1px 3px 1px rgba(60, 64, 67, 0.15);\n",
              "      fill: #174EA6;\n",
              "    }\n",
              "\n",
              "    [theme=dark] .colab-df-convert {\n",
              "      background-color: #3B4455;\n",
              "      fill: #D2E3FC;\n",
              "    }\n",
              "\n",
              "    [theme=dark] .colab-df-convert:hover {\n",
              "      background-color: #434B5C;\n",
              "      box-shadow: 0px 1px 3px 1px rgba(0, 0, 0, 0.15);\n",
              "      filter: drop-shadow(0px 1px 2px rgba(0, 0, 0, 0.3));\n",
              "      fill: #FFFFFF;\n",
              "    }\n",
              "  </style>\n",
              "\n",
              "      <script>\n",
              "        const buttonEl =\n",
              "          document.querySelector('#df-f70f5201-9fee-4429-ad8e-d0116320b038 button.colab-df-convert');\n",
              "        buttonEl.style.display =\n",
              "          google.colab.kernel.accessAllowed ? 'block' : 'none';\n",
              "\n",
              "        async function convertToInteractive(key) {\n",
              "          const element = document.querySelector('#df-f70f5201-9fee-4429-ad8e-d0116320b038');\n",
              "          const dataTable =\n",
              "            await google.colab.kernel.invokeFunction('convertToInteractive',\n",
              "                                                     [key], {});\n",
              "          if (!dataTable) return;\n",
              "\n",
              "          const docLinkHtml = 'Like what you see? Visit the ' +\n",
              "            '<a target=\"_blank\" href=https://colab.research.google.com/notebooks/data_table.ipynb>data table notebook</a>'\n",
              "            + ' to learn more about interactive tables.';\n",
              "          element.innerHTML = '';\n",
              "          dataTable['output_type'] = 'display_data';\n",
              "          await google.colab.output.renderOutput(dataTable, element);\n",
              "          const docLink = document.createElement('div');\n",
              "          docLink.innerHTML = docLinkHtml;\n",
              "          element.appendChild(docLink);\n",
              "        }\n",
              "      </script>\n",
              "    </div>\n",
              "  </div>\n",
              "  "
            ]
          },
          "metadata": {},
          "execution_count": 5
        }
      ]
    },
    {
      "cell_type": "code",
      "source": [
        "df = df[df.columns[2:]]"
      ],
      "metadata": {
        "id": "pS4ybWKnyk60"
      },
      "execution_count": 6,
      "outputs": []
    },
    {
      "cell_type": "code",
      "source": [
        "df = df.rename(columns={\"Positive\":\"Sentiment\", \"im getting on borderlands and i will murder you all ,\":\"sentence\"})"
      ],
      "metadata": {
        "id": "iHKFQiYZyodp"
      },
      "execution_count": 7,
      "outputs": []
    },
    {
      "cell_type": "code",
      "source": [
        "df['Sentiment'].value_counts()"
      ],
      "metadata": {
        "colab": {
          "base_uri": "https://localhost:8080/"
        },
        "id": "ehoSJitfyqFg",
        "outputId": "22e35524-5e51-42e8-a6d1-7f86fe6272e7"
      },
      "execution_count": 8,
      "outputs": [
        {
          "output_type": "execute_result",
          "data": {
            "text/plain": [
              "Negative      22542\n",
              "Positive      20831\n",
              "Neutral       18318\n",
              "Irrelevant    12990\n",
              "Name: Sentiment, dtype: int64"
            ]
          },
          "metadata": {},
          "execution_count": 8
        }
      ]
    },
    {
      "cell_type": "code",
      "source": [
        "df = df[df.apply(lambda x: (x[\"Sentiment\"] == \"Positive\") or (x[\"Sentiment\"] == \"Negative\"), axis=1)]"
      ],
      "metadata": {
        "id": "nNwXwOfGyxQY"
      },
      "execution_count": 9,
      "outputs": []
    },
    {
      "cell_type": "code",
      "source": [
        "df['Sentiment'].value_counts()"
      ],
      "metadata": {
        "colab": {
          "base_uri": "https://localhost:8080/"
        },
        "id": "Nn62U45gy2er",
        "outputId": "cb9a9181-ad71-4424-f26f-abccd0c757ef"
      },
      "execution_count": 10,
      "outputs": [
        {
          "output_type": "execute_result",
          "data": {
            "text/plain": [
              "Negative    22542\n",
              "Positive    20831\n",
              "Name: Sentiment, dtype: int64"
            ]
          },
          "metadata": {},
          "execution_count": 10
        }
      ]
    },
    {
      "cell_type": "code",
      "source": [
        "df['Sentiment'] = df['Sentiment'].apply(lambda x: 1 if x == \"Positive\" else 0)"
      ],
      "metadata": {
        "id": "mQK30n9gy9jT"
      },
      "execution_count": 11,
      "outputs": []
    },
    {
      "cell_type": "code",
      "source": [
        "df = shuffle(df)\n",
        "\n",
        "df"
      ],
      "metadata": {
        "colab": {
          "base_uri": "https://localhost:8080/",
          "height": 424
        },
        "id": "MCdnMURwzFYm",
        "outputId": "e6e72d3f-f482-4cd6-c9ca-dc34eccfc064"
      },
      "execution_count": 12,
      "outputs": [
        {
          "output_type": "execute_result",
          "data": {
            "text/plain": [
              "       Sentiment                                           sentence\n",
              "74310          1  Congratulations to the NVIDIA NeMo team on Rel...\n",
              "70186          1  I was telling the sub let that the sky isn’t e...\n",
              "72327          0  A @GhostRecon when again are really you finall...\n",
              "63658          0  @EAMaddenNFL whTs the problem now with EA? Why...\n",
              "64783          0  @ EAMaddenNFL why y'all hate franchise players...\n",
              "...          ...                                                ...\n",
              "41078          0              Sorry, my bad .. www.playstation.com/\n",
              "13791          0  with RhandlerR how does ur cover athletes jump...\n",
              "15354          0                                               Wtf.\n",
              "50494          0     Pissing people off within FIFA and on twitter.\n",
              "60732          1  I used to do this + their FM radio stations ar...\n",
              "\n",
              "[43373 rows x 2 columns]"
            ],
            "text/html": [
              "\n",
              "  <div id=\"df-9597ef12-0400-42a8-a703-469f6f3f2eec\">\n",
              "    <div class=\"colab-df-container\">\n",
              "      <div>\n",
              "<style scoped>\n",
              "    .dataframe tbody tr th:only-of-type {\n",
              "        vertical-align: middle;\n",
              "    }\n",
              "\n",
              "    .dataframe tbody tr th {\n",
              "        vertical-align: top;\n",
              "    }\n",
              "\n",
              "    .dataframe thead th {\n",
              "        text-align: right;\n",
              "    }\n",
              "</style>\n",
              "<table border=\"1\" class=\"dataframe\">\n",
              "  <thead>\n",
              "    <tr style=\"text-align: right;\">\n",
              "      <th></th>\n",
              "      <th>Sentiment</th>\n",
              "      <th>sentence</th>\n",
              "    </tr>\n",
              "  </thead>\n",
              "  <tbody>\n",
              "    <tr>\n",
              "      <th>74310</th>\n",
              "      <td>1</td>\n",
              "      <td>Congratulations to the NVIDIA NeMo team on Rel...</td>\n",
              "    </tr>\n",
              "    <tr>\n",
              "      <th>70186</th>\n",
              "      <td>1</td>\n",
              "      <td>I was telling the sub let that the sky isn’t e...</td>\n",
              "    </tr>\n",
              "    <tr>\n",
              "      <th>72327</th>\n",
              "      <td>0</td>\n",
              "      <td>A @GhostRecon when again are really you finall...</td>\n",
              "    </tr>\n",
              "    <tr>\n",
              "      <th>63658</th>\n",
              "      <td>0</td>\n",
              "      <td>@EAMaddenNFL whTs the problem now with EA? Why...</td>\n",
              "    </tr>\n",
              "    <tr>\n",
              "      <th>64783</th>\n",
              "      <td>0</td>\n",
              "      <td>@ EAMaddenNFL why y'all hate franchise players...</td>\n",
              "    </tr>\n",
              "    <tr>\n",
              "      <th>...</th>\n",
              "      <td>...</td>\n",
              "      <td>...</td>\n",
              "    </tr>\n",
              "    <tr>\n",
              "      <th>41078</th>\n",
              "      <td>0</td>\n",
              "      <td>Sorry, my bad .. www.playstation.com/</td>\n",
              "    </tr>\n",
              "    <tr>\n",
              "      <th>13791</th>\n",
              "      <td>0</td>\n",
              "      <td>with RhandlerR how does ur cover athletes jump...</td>\n",
              "    </tr>\n",
              "    <tr>\n",
              "      <th>15354</th>\n",
              "      <td>0</td>\n",
              "      <td>Wtf.</td>\n",
              "    </tr>\n",
              "    <tr>\n",
              "      <th>50494</th>\n",
              "      <td>0</td>\n",
              "      <td>Pissing people off within FIFA and on twitter.</td>\n",
              "    </tr>\n",
              "    <tr>\n",
              "      <th>60732</th>\n",
              "      <td>1</td>\n",
              "      <td>I used to do this + their FM radio stations ar...</td>\n",
              "    </tr>\n",
              "  </tbody>\n",
              "</table>\n",
              "<p>43373 rows × 2 columns</p>\n",
              "</div>\n",
              "      <button class=\"colab-df-convert\" onclick=\"convertToInteractive('df-9597ef12-0400-42a8-a703-469f6f3f2eec')\"\n",
              "              title=\"Convert this dataframe to an interactive table.\"\n",
              "              style=\"display:none;\">\n",
              "        \n",
              "  <svg xmlns=\"http://www.w3.org/2000/svg\" height=\"24px\"viewBox=\"0 0 24 24\"\n",
              "       width=\"24px\">\n",
              "    <path d=\"M0 0h24v24H0V0z\" fill=\"none\"/>\n",
              "    <path d=\"M18.56 5.44l.94 2.06.94-2.06 2.06-.94-2.06-.94-.94-2.06-.94 2.06-2.06.94zm-11 1L8.5 8.5l.94-2.06 2.06-.94-2.06-.94L8.5 2.5l-.94 2.06-2.06.94zm10 10l.94 2.06.94-2.06 2.06-.94-2.06-.94-.94-2.06-.94 2.06-2.06.94z\"/><path d=\"M17.41 7.96l-1.37-1.37c-.4-.4-.92-.59-1.43-.59-.52 0-1.04.2-1.43.59L10.3 9.45l-7.72 7.72c-.78.78-.78 2.05 0 2.83L4 21.41c.39.39.9.59 1.41.59.51 0 1.02-.2 1.41-.59l7.78-7.78 2.81-2.81c.8-.78.8-2.07 0-2.86zM5.41 20L4 18.59l7.72-7.72 1.47 1.35L5.41 20z\"/>\n",
              "  </svg>\n",
              "      </button>\n",
              "      \n",
              "  <style>\n",
              "    .colab-df-container {\n",
              "      display:flex;\n",
              "      flex-wrap:wrap;\n",
              "      gap: 12px;\n",
              "    }\n",
              "\n",
              "    .colab-df-convert {\n",
              "      background-color: #E8F0FE;\n",
              "      border: none;\n",
              "      border-radius: 50%;\n",
              "      cursor: pointer;\n",
              "      display: none;\n",
              "      fill: #1967D2;\n",
              "      height: 32px;\n",
              "      padding: 0 0 0 0;\n",
              "      width: 32px;\n",
              "    }\n",
              "\n",
              "    .colab-df-convert:hover {\n",
              "      background-color: #E2EBFA;\n",
              "      box-shadow: 0px 1px 2px rgba(60, 64, 67, 0.3), 0px 1px 3px 1px rgba(60, 64, 67, 0.15);\n",
              "      fill: #174EA6;\n",
              "    }\n",
              "\n",
              "    [theme=dark] .colab-df-convert {\n",
              "      background-color: #3B4455;\n",
              "      fill: #D2E3FC;\n",
              "    }\n",
              "\n",
              "    [theme=dark] .colab-df-convert:hover {\n",
              "      background-color: #434B5C;\n",
              "      box-shadow: 0px 1px 3px 1px rgba(0, 0, 0, 0.15);\n",
              "      filter: drop-shadow(0px 1px 2px rgba(0, 0, 0, 0.3));\n",
              "      fill: #FFFFFF;\n",
              "    }\n",
              "  </style>\n",
              "\n",
              "      <script>\n",
              "        const buttonEl =\n",
              "          document.querySelector('#df-9597ef12-0400-42a8-a703-469f6f3f2eec button.colab-df-convert');\n",
              "        buttonEl.style.display =\n",
              "          google.colab.kernel.accessAllowed ? 'block' : 'none';\n",
              "\n",
              "        async function convertToInteractive(key) {\n",
              "          const element = document.querySelector('#df-9597ef12-0400-42a8-a703-469f6f3f2eec');\n",
              "          const dataTable =\n",
              "            await google.colab.kernel.invokeFunction('convertToInteractive',\n",
              "                                                     [key], {});\n",
              "          if (!dataTable) return;\n",
              "\n",
              "          const docLinkHtml = 'Like what you see? Visit the ' +\n",
              "            '<a target=\"_blank\" href=https://colab.research.google.com/notebooks/data_table.ipynb>data table notebook</a>'\n",
              "            + ' to learn more about interactive tables.';\n",
              "          element.innerHTML = '';\n",
              "          dataTable['output_type'] = 'display_data';\n",
              "          await google.colab.output.renderOutput(dataTable, element);\n",
              "          const docLink = document.createElement('div');\n",
              "          docLink.innerHTML = docLinkHtml;\n",
              "          element.appendChild(docLink);\n",
              "        }\n",
              "      </script>\n",
              "    </div>\n",
              "  </div>\n",
              "  "
            ]
          },
          "metadata": {},
          "execution_count": 12
        }
      ]
    },
    {
      "cell_type": "code",
      "source": [
        "df.isna().value_counts()"
      ],
      "metadata": {
        "colab": {
          "base_uri": "https://localhost:8080/"
        },
        "id": "9Lo92lqyXy0o",
        "outputId": "b92c3fc6-954d-4868-b743-4deac608d7d0"
      },
      "execution_count": 13,
      "outputs": [
        {
          "output_type": "execute_result",
          "data": {
            "text/plain": [
              "Sentiment  sentence\n",
              "False      False       43012\n",
              "           True          361\n",
              "dtype: int64"
            ]
          },
          "metadata": {},
          "execution_count": 13
        }
      ]
    },
    {
      "cell_type": "code",
      "source": [
        "df.dropna(inplace=True) # dropping empty sentences"
      ],
      "metadata": {
        "id": "4Fv04PYyYFT8"
      },
      "execution_count": 14,
      "outputs": []
    },
    {
      "cell_type": "code",
      "source": [
        "df"
      ],
      "metadata": {
        "colab": {
          "base_uri": "https://localhost:8080/",
          "height": 424
        },
        "id": "2t6mZ25aQ-K8",
        "outputId": "26d70232-bf9b-4e7b-93d4-2d3c3e13ad58"
      },
      "execution_count": 15,
      "outputs": [
        {
          "output_type": "execute_result",
          "data": {
            "text/plain": [
              "       Sentiment                                           sentence\n",
              "74310          1  Congratulations to the NVIDIA NeMo team on Rel...\n",
              "70186          1  I was telling the sub let that the sky isn’t e...\n",
              "72327          0  A @GhostRecon when again are really you finall...\n",
              "63658          0  @EAMaddenNFL whTs the problem now with EA? Why...\n",
              "64783          0  @ EAMaddenNFL why y'all hate franchise players...\n",
              "...          ...                                                ...\n",
              "41078          0              Sorry, my bad .. www.playstation.com/\n",
              "13791          0  with RhandlerR how does ur cover athletes jump...\n",
              "15354          0                                               Wtf.\n",
              "50494          0     Pissing people off within FIFA and on twitter.\n",
              "60732          1  I used to do this + their FM radio stations ar...\n",
              "\n",
              "[43012 rows x 2 columns]"
            ],
            "text/html": [
              "\n",
              "  <div id=\"df-a219de25-4ed8-46f0-9c62-0ed2964ec613\">\n",
              "    <div class=\"colab-df-container\">\n",
              "      <div>\n",
              "<style scoped>\n",
              "    .dataframe tbody tr th:only-of-type {\n",
              "        vertical-align: middle;\n",
              "    }\n",
              "\n",
              "    .dataframe tbody tr th {\n",
              "        vertical-align: top;\n",
              "    }\n",
              "\n",
              "    .dataframe thead th {\n",
              "        text-align: right;\n",
              "    }\n",
              "</style>\n",
              "<table border=\"1\" class=\"dataframe\">\n",
              "  <thead>\n",
              "    <tr style=\"text-align: right;\">\n",
              "      <th></th>\n",
              "      <th>Sentiment</th>\n",
              "      <th>sentence</th>\n",
              "    </tr>\n",
              "  </thead>\n",
              "  <tbody>\n",
              "    <tr>\n",
              "      <th>74310</th>\n",
              "      <td>1</td>\n",
              "      <td>Congratulations to the NVIDIA NeMo team on Rel...</td>\n",
              "    </tr>\n",
              "    <tr>\n",
              "      <th>70186</th>\n",
              "      <td>1</td>\n",
              "      <td>I was telling the sub let that the sky isn’t e...</td>\n",
              "    </tr>\n",
              "    <tr>\n",
              "      <th>72327</th>\n",
              "      <td>0</td>\n",
              "      <td>A @GhostRecon when again are really you finall...</td>\n",
              "    </tr>\n",
              "    <tr>\n",
              "      <th>63658</th>\n",
              "      <td>0</td>\n",
              "      <td>@EAMaddenNFL whTs the problem now with EA? Why...</td>\n",
              "    </tr>\n",
              "    <tr>\n",
              "      <th>64783</th>\n",
              "      <td>0</td>\n",
              "      <td>@ EAMaddenNFL why y'all hate franchise players...</td>\n",
              "    </tr>\n",
              "    <tr>\n",
              "      <th>...</th>\n",
              "      <td>...</td>\n",
              "      <td>...</td>\n",
              "    </tr>\n",
              "    <tr>\n",
              "      <th>41078</th>\n",
              "      <td>0</td>\n",
              "      <td>Sorry, my bad .. www.playstation.com/</td>\n",
              "    </tr>\n",
              "    <tr>\n",
              "      <th>13791</th>\n",
              "      <td>0</td>\n",
              "      <td>with RhandlerR how does ur cover athletes jump...</td>\n",
              "    </tr>\n",
              "    <tr>\n",
              "      <th>15354</th>\n",
              "      <td>0</td>\n",
              "      <td>Wtf.</td>\n",
              "    </tr>\n",
              "    <tr>\n",
              "      <th>50494</th>\n",
              "      <td>0</td>\n",
              "      <td>Pissing people off within FIFA and on twitter.</td>\n",
              "    </tr>\n",
              "    <tr>\n",
              "      <th>60732</th>\n",
              "      <td>1</td>\n",
              "      <td>I used to do this + their FM radio stations ar...</td>\n",
              "    </tr>\n",
              "  </tbody>\n",
              "</table>\n",
              "<p>43012 rows × 2 columns</p>\n",
              "</div>\n",
              "      <button class=\"colab-df-convert\" onclick=\"convertToInteractive('df-a219de25-4ed8-46f0-9c62-0ed2964ec613')\"\n",
              "              title=\"Convert this dataframe to an interactive table.\"\n",
              "              style=\"display:none;\">\n",
              "        \n",
              "  <svg xmlns=\"http://www.w3.org/2000/svg\" height=\"24px\"viewBox=\"0 0 24 24\"\n",
              "       width=\"24px\">\n",
              "    <path d=\"M0 0h24v24H0V0z\" fill=\"none\"/>\n",
              "    <path d=\"M18.56 5.44l.94 2.06.94-2.06 2.06-.94-2.06-.94-.94-2.06-.94 2.06-2.06.94zm-11 1L8.5 8.5l.94-2.06 2.06-.94-2.06-.94L8.5 2.5l-.94 2.06-2.06.94zm10 10l.94 2.06.94-2.06 2.06-.94-2.06-.94-.94-2.06-.94 2.06-2.06.94z\"/><path d=\"M17.41 7.96l-1.37-1.37c-.4-.4-.92-.59-1.43-.59-.52 0-1.04.2-1.43.59L10.3 9.45l-7.72 7.72c-.78.78-.78 2.05 0 2.83L4 21.41c.39.39.9.59 1.41.59.51 0 1.02-.2 1.41-.59l7.78-7.78 2.81-2.81c.8-.78.8-2.07 0-2.86zM5.41 20L4 18.59l7.72-7.72 1.47 1.35L5.41 20z\"/>\n",
              "  </svg>\n",
              "      </button>\n",
              "      \n",
              "  <style>\n",
              "    .colab-df-container {\n",
              "      display:flex;\n",
              "      flex-wrap:wrap;\n",
              "      gap: 12px;\n",
              "    }\n",
              "\n",
              "    .colab-df-convert {\n",
              "      background-color: #E8F0FE;\n",
              "      border: none;\n",
              "      border-radius: 50%;\n",
              "      cursor: pointer;\n",
              "      display: none;\n",
              "      fill: #1967D2;\n",
              "      height: 32px;\n",
              "      padding: 0 0 0 0;\n",
              "      width: 32px;\n",
              "    }\n",
              "\n",
              "    .colab-df-convert:hover {\n",
              "      background-color: #E2EBFA;\n",
              "      box-shadow: 0px 1px 2px rgba(60, 64, 67, 0.3), 0px 1px 3px 1px rgba(60, 64, 67, 0.15);\n",
              "      fill: #174EA6;\n",
              "    }\n",
              "\n",
              "    [theme=dark] .colab-df-convert {\n",
              "      background-color: #3B4455;\n",
              "      fill: #D2E3FC;\n",
              "    }\n",
              "\n",
              "    [theme=dark] .colab-df-convert:hover {\n",
              "      background-color: #434B5C;\n",
              "      box-shadow: 0px 1px 3px 1px rgba(0, 0, 0, 0.15);\n",
              "      filter: drop-shadow(0px 1px 2px rgba(0, 0, 0, 0.3));\n",
              "      fill: #FFFFFF;\n",
              "    }\n",
              "  </style>\n",
              "\n",
              "      <script>\n",
              "        const buttonEl =\n",
              "          document.querySelector('#df-a219de25-4ed8-46f0-9c62-0ed2964ec613 button.colab-df-convert');\n",
              "        buttonEl.style.display =\n",
              "          google.colab.kernel.accessAllowed ? 'block' : 'none';\n",
              "\n",
              "        async function convertToInteractive(key) {\n",
              "          const element = document.querySelector('#df-a219de25-4ed8-46f0-9c62-0ed2964ec613');\n",
              "          const dataTable =\n",
              "            await google.colab.kernel.invokeFunction('convertToInteractive',\n",
              "                                                     [key], {});\n",
              "          if (!dataTable) return;\n",
              "\n",
              "          const docLinkHtml = 'Like what you see? Visit the ' +\n",
              "            '<a target=\"_blank\" href=https://colab.research.google.com/notebooks/data_table.ipynb>data table notebook</a>'\n",
              "            + ' to learn more about interactive tables.';\n",
              "          element.innerHTML = '';\n",
              "          dataTable['output_type'] = 'display_data';\n",
              "          await google.colab.output.renderOutput(dataTable, element);\n",
              "          const docLink = document.createElement('div');\n",
              "          docLink.innerHTML = docLinkHtml;\n",
              "          element.appendChild(docLink);\n",
              "        }\n",
              "      </script>\n",
              "    </div>\n",
              "  </div>\n",
              "  "
            ]
          },
          "metadata": {},
          "execution_count": 15
        }
      ]
    },
    {
      "cell_type": "code",
      "source": [
        "labels = df['Sentiment']\n",
        "features = df['sentence']"
      ],
      "metadata": {
        "id": "P3EUU-DNzVaR"
      },
      "execution_count": 16,
      "outputs": []
    },
    {
      "cell_type": "markdown",
      "source": [
        "## Tokenizer\n",
        "using subword tokenizer implementation from Bert model"
      ],
      "metadata": {
        "id": "CTu4-W8ORGAA"
      }
    },
    {
      "cell_type": "code",
      "execution_count": 17,
      "metadata": {
        "id": "QToMl0NanZPr",
        "colab": {
          "base_uri": "https://localhost:8080/",
          "height": 70
        },
        "outputId": "8c30ab23-7717-4bd1-e37d-ed6225b95dd1"
      },
      "outputs": [
        {
          "output_type": "stream",
          "name": "stdout",
          "text": [
            "Downloading data from https://storage.googleapis.com/download.tensorflow.org/models/ted_hrlr_translate_pt_en_converter.zip\n",
            "184801/184801 [==============================] - 0s 0us/step\n"
          ]
        },
        {
          "output_type": "execute_result",
          "data": {
            "text/plain": [
              "'./ted_hrlr_translate_pt_en_converter.zip'"
            ],
            "application/vnd.google.colaboratory.intrinsic+json": {
              "type": "string"
            }
          },
          "metadata": {},
          "execution_count": 17
        }
      ],
      "source": [
        "model_name = 'ted_hrlr_translate_pt_en_converter'\n",
        "tf.keras.utils.get_file(\n",
        "    f'{model_name}.zip',\n",
        "    f'https://storage.googleapis.com/download.tensorflow.org/models/{model_name}.zip',\n",
        "    cache_dir='.', cache_subdir='', extract=True\n",
        ")"
      ]
    },
    {
      "cell_type": "code",
      "execution_count": 19,
      "metadata": {
        "id": "h5dbGnPXnuI1"
      },
      "outputs": [],
      "source": [
        "tokenizers = tf.saved_model.load(model_name)"
      ]
    },
    {
      "cell_type": "code",
      "source": [
        "[item for item in dir(tokenizers) if not item.startswith('_')]"
      ],
      "metadata": {
        "colab": {
          "base_uri": "https://localhost:8080/"
        },
        "id": "bKQlglto-FNG",
        "outputId": "5c33449a-4b12-45d9-c71d-56695ab4e816"
      },
      "execution_count": 20,
      "outputs": [
        {
          "output_type": "execute_result",
          "data": {
            "text/plain": [
              "['en',\n",
              " 'graph_debug_info',\n",
              " 'pt',\n",
              " 'signatures',\n",
              " 'tensorflow_git_version',\n",
              " 'tensorflow_version']"
            ]
          },
          "metadata": {},
          "execution_count": 20
        }
      ]
    },
    {
      "cell_type": "markdown",
      "metadata": {
        "id": "CexgkIS1lzdt"
      },
      "source": [
        "The `tf.saved_model` contains two text tokenizers, one for English and one for Portuguese. We just need the English one"
      ]
    },
    {
      "cell_type": "code",
      "execution_count": 21,
      "metadata": {
        "id": "s-PCJijfcZ9_",
        "colab": {
          "base_uri": "https://localhost:8080/"
        },
        "outputId": "13ca7a8d-e9bd-4e13-e14c-1b7b50f47705"
      },
      "outputs": [
        {
          "output_type": "execute_result",
          "data": {
            "text/plain": [
              "['detokenize',\n",
              " 'get_reserved_tokens',\n",
              " 'get_vocab_path',\n",
              " 'get_vocab_size',\n",
              " 'lookup',\n",
              " 'tokenize',\n",
              " 'tokenizer',\n",
              " 'vocab']"
            ]
          },
          "metadata": {},
          "execution_count": 21
        }
      ],
      "source": [
        "[item for item in dir(tokenizers.en) if not item.startswith('_')]"
      ]
    },
    {
      "cell_type": "code",
      "source": [
        "sample = features.sample(n=5)\n",
        "sample"
      ],
      "metadata": {
        "colab": {
          "base_uri": "https://localhost:8080/"
        },
        "id": "W6ixK1WW0I4q",
        "outputId": "61e64a5a-99cd-4ec5-d801-d424de1cae56"
      },
      "execution_count": 22,
      "outputs": [
        {
          "output_type": "execute_result",
          "data": {
            "text/plain": [
              "12107                                   This bothers me.  \n",
              "2544                    Not overly confident on this issue\n",
              "41837    Update: I did not do this. . I played battlefi...\n",
              "17833    oooooh shit i think my motherboard is already ...\n",
              "57060    I really need to start playing @ Rainbow6Game,...\n",
              "Name: sentence, dtype: object"
            ]
          },
          "metadata": {},
          "execution_count": 22
        }
      ]
    },
    {
      "cell_type": "code",
      "execution_count": 23,
      "metadata": {
        "id": "z_gPC5iwFXfU",
        "colab": {
          "base_uri": "https://localhost:8080/"
        },
        "outputId": "a855c385-3859-41ab-abb3-a721030710f1"
      },
      "outputs": [
        {
          "output_type": "stream",
          "name": "stdout",
          "text": [
            "This bothers me.  \n"
          ]
        }
      ],
      "source": [
        "text_sample = sample.iloc[0]\n",
        "print(text_sample)"
      ]
    },
    {
      "cell_type": "code",
      "execution_count": 24,
      "metadata": {
        "id": "uSkM7z8JFaVO",
        "colab": {
          "base_uri": "https://localhost:8080/"
        },
        "outputId": "03163574-08c2-45a1-84fe-c5fbdfa7043d"
      },
      "outputs": [
        {
          "output_type": "stream",
          "name": "stdout",
          "text": [
            "Padded and encoded embeddings:\n",
            "[2, 81, 4358, 88, 114, 15, 3]\n",
            "[2, 98, 187, 188, 2803, 92, 81, 894, 3]\n",
            "[2, 130, 5933, 27, 45, 149, 98, 91, 81, 15, 15, 45, 1868, 2312, 6438, 21, 501, 15, 148, 84, 37, 2395, 15, 3]\n",
            "[2, 51, 3178, 3178, 459, 3529, 45, 133, 99, 519, 2491, 80, 418, 3456, 4312, 3746, 836, 3]\n",
            "[2, 45, 140, 181, 73, 260, 1488, 31, 1470, 6401, 1163, 5140, 1572, 13, 3213, 45, 153, 89, 121, 1411, 417, 171, 31, 2159, 773, 6464, 587, 6422, 2199, 230, 85, 59, 1325, 388, 388, 388, 3]\n"
          ]
        }
      ],
      "source": [
        "encoded = tokenizers.en.tokenize(sample)\n",
        "# print(encoded)\n",
        "print('Padded and encoded embeddings:')\n",
        "for row in encoded.to_list():\n",
        "  print(row)"
      ]
    },
    {
      "cell_type": "markdown",
      "source": [
        "The padded 2 and 3 stands for [START] and [END]"
      ],
      "metadata": {
        "id": "_YBokPtCSfCT"
      }
    },
    {
      "cell_type": "code",
      "source": [
        "encoded[:, :128]"
      ],
      "metadata": {
        "colab": {
          "base_uri": "https://localhost:8080/"
        },
        "id": "7VrTDyW5xikX",
        "outputId": "179009cf-40da-47ec-d928-a13d7470d98d"
      },
      "execution_count": 28,
      "outputs": [
        {
          "output_type": "execute_result",
          "data": {
            "text/plain": [
              "<tf.RaggedTensor [[2, 81, 4358, 88, 114, 15, 3], [2, 98, 187, 188, 2803, 92, 81, 894, 3],\n",
              " [2, 130, 5933, 27, 45, 149, 98, 91, 81, 15, 15, 45, 1868, 2312, 6438, 21,\n",
              "  501, 15, 148, 84, 37, 2395, 15, 3]                                      ,\n",
              " [2, 51, 3178, 3178, 459, 3529, 45, 133, 99, 519, 2491, 80, 418, 3456, 4312,\n",
              "  3746, 836, 3]                                                             ,\n",
              " [2, 45, 140, 181, 73, 260, 1488, 31, 1470, 6401, 1163, 5140, 1572, 13,\n",
              "  3213, 45, 153, 89, 121, 1411, 417, 171, 31, 2159, 773, 6464, 587, 6422,\n",
              "  2199, 230, 85, 59, 1325, 388, 388, 388, 3]                             ]>"
            ]
          },
          "metadata": {},
          "execution_count": 28
        }
      ]
    },
    {
      "cell_type": "code",
      "execution_count": 29,
      "metadata": {
        "id": "-CFS5aAxFdpP",
        "colab": {
          "base_uri": "https://localhost:8080/"
        },
        "outputId": "6a24324a-1485-4d78-b4fc-6b8c657ccb87"
      },
      "outputs": [
        {
          "output_type": "stream",
          "name": "stdout",
          "text": [
            "Original text:\n",
            "this bothers me .\n",
            "not overly confident on this issue\n",
            "update : i did not do this . . i played battlefield 4 instead . which was a mistake .\n",
            "oooooh shit i think my motherboard is already compatible\n",
            "i really need to start playing @ rainbow6game , definitely i will have more useful experience than @ destinythegame for wwiii\n"
          ]
        }
      ],
      "source": [
        "round_trip = tokenizers.en.detokenize(encoded[:, :128])\n",
        "\n",
        "print('Original text:')\n",
        "for line in round_trip.numpy():\n",
        "  print(line.decode('utf-8'))"
      ]
    },
    {
      "cell_type": "markdown",
      "metadata": {
        "id": "-Yb35sTJcZq9"
      },
      "source": [
        "## Set up a data pipeline with `tf.data`"
      ]
    },
    {
      "cell_type": "markdown",
      "metadata": {
        "id": "JZHsns5obJhN"
      },
      "source": [
        "The following function takes batches of text as input, and converts them to a format suitable for training. \n",
        "\n",
        "1. It tokenizes them into ragged batches.\n",
        "2. It trims each to be no longer than `MAX_TOKENS`.\n",
        "3. It splits the output (English) tokens into inputs and labels. THese shifted by one step so that the `label` at each location is the id of the next token.\n",
        "4. It converts the `RaggedTensor`s to padded dense `Tensor`s.\n",
        "5. It returns an `(inputs, labels)` pair.\n",
        "\n",
        "NOTE: We will bypass this method in the batch making area and utilize our own method since we are not using `tf.data`"
      ]
    },
    {
      "cell_type": "markdown",
      "source": [
        "# **Tokenizer**\n",
        "Cannot prepare batches as required. I don't know how to fix it."
      ],
      "metadata": {
        "id": "bcjigvyBTNxA"
      }
    },
    {
      "cell_type": "code",
      "execution_count": 31,
      "metadata": {
        "id": "6shgzEck3FiV"
      },
      "outputs": [],
      "source": [
        "MAX_TOKENS=128\n",
        "def prepare_batch(en): # not actually preparing batches\n",
        "    en = tokenizers.en.tokenize(en)\n",
        "    en = en[:, :(MAX_TOKENS+1)] # pads with `.` if the sentence is less than 128 words and strips if more than 128 words\n",
        "    # print(en)\n",
        "    # en_inputs = en[:, :-1].to_tensor()\n",
        "    return en"
      ]
    },
    {
      "cell_type": "code",
      "source": [
        "tokenized_sentences = prepare_batch(features)"
      ],
      "metadata": {
        "id": "wtJvpZPFf49x"
      },
      "execution_count": 32,
      "outputs": []
    },
    {
      "cell_type": "code",
      "source": [
        "list_tokenized = tokenized_sentences.to_list()"
      ],
      "metadata": {
        "id": "90NMeq3-zE5E"
      },
      "execution_count": 33,
      "outputs": []
    },
    {
      "cell_type": "code",
      "source": [
        "list_tokenized"
      ],
      "metadata": {
        "id": "j5JWsRVG_rrR"
      },
      "execution_count": null,
      "outputs": []
    },
    {
      "cell_type": "code",
      "source": [
        "len(list_tokenized), len(labels)"
      ],
      "metadata": {
        "id": "hMN1ugKPgHKK",
        "colab": {
          "base_uri": "https://localhost:8080/"
        },
        "outputId": "8fb9951f-9d39-49b1-a669-93ea8f480d8d"
      },
      "execution_count": 35,
      "outputs": [
        {
          "output_type": "execute_result",
          "data": {
            "text/plain": [
              "(43012, 43012)"
            ]
          },
          "metadata": {},
          "execution_count": 35
        }
      ]
    },
    {
      "cell_type": "code",
      "source": [
        "for i in range(len(list_tokenized)-43000):\n",
        "  print(list_tokenized[i], labels.iloc[i])"
      ],
      "metadata": {
        "colab": {
          "base_uri": "https://localhost:8080/"
        },
        "id": "yP2WIe3tl5ie",
        "outputId": "301268ff-f868-4899-e794-dad84d5cc316"
      },
      "execution_count": 36,
      "outputs": [
        {
          "output_type": "stream",
          "name": "stdout",
          "text": [
            "[2, 3455, 5162, 1305, 271, 2714, 88, 73, 71, 50, 2204, 1496, 858, 50, 4096, 376, 755, 92, 1903, 3599, 18, 15, 17, 15, 17, 4, 140, 1401, 73, 125, 50, 4096, 376, 2517, 44, 240, 178, 1305, 73, 184, 492, 74, 71, 5244, 3133, 429, 74, 659, 507, 4, 27, 11, 3] 1\n",
            "[2, 45, 84, 800, 71, 2954, 186, 75, 71, 1493, 80, 269, 68, 56, 3337, 48, 2564, 173, 235, 45, 1471, 15, 1401, 85, 45, 4864, 2430, 3826, 15, 3] 1\n",
            "[2, 37, 31, 43, 5502, 773, 966, 6407, 117, 273, 86, 140, 79, 605, 6157, 71, 2312, 2537, 88, 30, 72, 166, 1102, 224, 114, 79, 68, 105, 112, 2928, 71, 5695, 2611, 1409, 484, 72, 71, 5260, 60, 601, 444, 1409, 484, 15, 45, 302, 698, 75, 1243, 82, 75, 79, 94, 283, 266, 73, 15, 285, 1199, 71, 444, 217, 601, 85, 163, 74, 134, 136, 86, 320, 102, 71, 859, 49, 3895, 15, 3] 0\n",
            "[2, 31, 41, 2489, 5934, 269, 1192, 392, 59, 459, 803, 71, 249, 110, 93, 41, 303, 30, 192, 71, 3] 0\n",
            "[2, 31, 41, 2489, 5934, 269, 1192, 392, 192, 61, 9, 101, 1988, 42, 1305, 269, 1173, 2709, 6258, 82, 170, 90, 78, 91, 93, 61, 9, 101, 3] 0\n",
            "[2, 37, 240, 240, 4, 4, 45, 302, 81, 4952, 6374, 950, 4, 4, 4, 4, 3] 1\n",
            "[2, 1102, 5008, 71, 4626, 113, 180, 379, 104, 153, 943, 15, 15, 15, 31, 45, 504, 1305, 269, 484, 4292, 2296, 388, 3] 1\n",
            "[2, 45, 132, 81, 80, 37, 3236, 87, 81, 150, 380, 114, 82, 3133, 13, 45, 302, 81, 1112, 82, 170, 10, 1556, 76, 222, 73, 6530, 488, 11, 8, 698, 76, 1168, 1577, 106, 81, 247, 649, 3445, 15, 497, 82, 274, 13, 78, 298, 3236, 178, 75, 71, 283, 84, 2116, 10, 503, 106, 447, 1205, 1164, 56, 658, 11, 72, 110, 76, 140, 80, 15, 3] 1\n",
            "[2, 224, 1815, 101, 75, 1528, 2091, 4, 4, 4, 3] 0\n",
            "[2, 37, 240, 230, 13, 107, 245, 60, 14, 958, 113, 52, 88, 1800, 2942, 14, 538, 985, 888, 62, 2423, 846, 947, 76, 73, 99, 719, 10, 113, 2268, 11, 100, 1019, 100, 57, 1102, 228, 122, 15, 107, 57, 42, 2713, 93, 114, 15, 3] 1\n",
            "[2, 5595, 471, 75, 480, 3] 0\n",
            "[2, 31, 528, 5501, 5117, 4097, 5561, 456, 241, 171, 84, 611, 99, 656, 1096, 102, 195, 222, 5851, 256, 1265, 118, 105, 1061, 52, 1726, 271, 13, 81, 37, 5545, 743, 240, 2008, 80, 3388, 72, 4927, 3] 0\n"
          ]
        }
      ]
    },
    {
      "cell_type": "markdown",
      "metadata": {
        "id": "7e7hKcxn6-zd"
      },
      "source": [
        "## Copied code \n",
        "we need to change it up a bit so we can use same definitions for our own classification problem"
      ]
    },
    {
      "cell_type": "markdown",
      "metadata": {
        "id": "YS75Y-9-lkzn"
      },
      "source": [
        "### Define the Embedding and Positional encoding"
      ]
    },
    {
      "cell_type": "code",
      "execution_count": 37,
      "metadata": {
        "id": "1Rz82wEs5biZ"
      },
      "outputs": [],
      "source": [
        "def positional_encoding(length, depth):\n",
        "  depth = depth/2\n",
        "\n",
        "  positions = np.arange(length)[:, np.newaxis]     # (seq, 1)\n",
        "  depths = np.arange(depth)[np.newaxis, :]/depth   # (1, depth)\n",
        "  \n",
        "  angle_rates = 1 / (10000**depths)         # (1, depth)\n",
        "  angle_rads = positions * angle_rates      # (pos, depth)\n",
        "\n",
        "  pos_encoding = np.concatenate(\n",
        "      [np.sin(angle_rads), np.cos(angle_rads)],\n",
        "      axis=-1) \n",
        "\n",
        "  return tf.cast(pos_encoding, dtype=tf.float32)"
      ]
    },
    {
      "cell_type": "code",
      "source": [
        "temp_encoding = positional_encoding(length=2048, depth=512)\n",
        "temp_encoding"
      ],
      "metadata": {
        "id": "z97IJsy575hJ",
        "colab": {
          "base_uri": "https://localhost:8080/"
        },
        "outputId": "43f06733-f228-4ac4-e61c-2c62ecf12f5b"
      },
      "execution_count": 39,
      "outputs": [
        {
          "output_type": "execute_result",
          "data": {
            "text/plain": [
              "<tf.Tensor: shape=(2048, 512), dtype=float32, numpy=\n",
              "array([[ 0.        ,  0.        ,  0.        , ...,  1.        ,\n",
              "         1.        ,  1.        ],\n",
              "       [ 0.84147096,  0.8218562 ,  0.8019618 , ...,  1.        ,\n",
              "         1.        ,  1.        ],\n",
              "       [ 0.9092974 ,  0.9364147 ,  0.95814437, ...,  1.        ,\n",
              "         1.        ,  1.        ],\n",
              "       ...,\n",
              "       [ 0.17589758, -0.18608274, -0.7070546 , ...,  0.9741639 ,\n",
              "         0.97595036,  0.97761387],\n",
              "       [-0.7333133 ,  0.7014913 ,  0.1447375 , ...,  0.9741387 ,\n",
              "         0.97592694,  0.97759205],\n",
              "       [-0.9683193 ,  0.98535496,  0.8799798 , ...,  0.9741135 ,\n",
              "         0.9759035 ,  0.9775702 ]], dtype=float32)>"
            ]
          },
          "metadata": {},
          "execution_count": 39
        }
      ]
    },
    {
      "cell_type": "code",
      "source": [
        "temp_encoding[tf.newaxis, :128, :].shape"
      ],
      "metadata": {
        "colab": {
          "base_uri": "https://localhost:8080/"
        },
        "id": "LmtqpoFW95xX",
        "outputId": "2d2b28ba-85e6-400d-e701-fd800af0fa4c"
      },
      "execution_count": 40,
      "outputs": [
        {
          "output_type": "execute_result",
          "data": {
            "text/plain": [
              "TensorShape([1, 128, 512])"
            ]
          },
          "metadata": {},
          "execution_count": 40
        }
      ]
    },
    {
      "cell_type": "code",
      "execution_count": 38,
      "metadata": {
        "id": "838tmM1cm9cB"
      },
      "outputs": [],
      "source": [
        "class PositionalEmbedding(tf.keras.layers.Layer):\n",
        "  def __init__(self, vocab_size, d_model):\n",
        "    super().__init__()\n",
        "    self.d_model = d_model\n",
        "    self.embedding = tf.keras.layers.Embedding(vocab_size, d_model, mask_zero=True) \n",
        "    self.pos_encoding = positional_encoding(length=2048, depth=d_model)\n",
        "\n",
        "  def compute_mask(self, *args, **kwargs):\n",
        "    return self.embedding.compute_mask(*args, **kwargs)\n",
        "\n",
        "  def call(self, x):\n",
        "    length = tf.shape(x)[1]\n",
        "    x = self.embedding(x)\n",
        "    x *= tf.math.sqrt(tf.cast(self.d_model, tf.float32))\n",
        "    x = x + self.pos_encoding[tf.newaxis, :length, :]\n",
        "    return x # (batch_size, length-of-signal, 512)\n"
      ]
    },
    {
      "cell_type": "code",
      "source": [
        "x = np.zeros((400, 128, 512))\n",
        "y = np.zeros((1, 128, 512))"
      ],
      "metadata": {
        "id": "j69lsiUpBDAe"
      },
      "execution_count": 42,
      "outputs": []
    },
    {
      "cell_type": "code",
      "source": [
        "x = np.random.rand(4, 3, 2)\n",
        "y = np.random.rand(1, 3, 2)\n"
      ],
      "metadata": {
        "id": "glzhCWdSCb_9"
      },
      "execution_count": 51,
      "outputs": []
    },
    {
      "cell_type": "code",
      "source": [
        "x, y"
      ],
      "metadata": {
        "colab": {
          "base_uri": "https://localhost:8080/"
        },
        "id": "LRrflPoSDE-q",
        "outputId": "f4db7a45-2a00-46c3-901c-8a9670cc3953"
      },
      "execution_count": 53,
      "outputs": [
        {
          "output_type": "execute_result",
          "data": {
            "text/plain": [
              "(array([[[0.04402398, 0.42241895],\n",
              "         [0.1701536 , 0.54974911],\n",
              "         [0.93333992, 0.58173488]],\n",
              " \n",
              "        [[0.97077209, 0.93875453],\n",
              "         [0.14166638, 0.64795212],\n",
              "         [0.27086614, 0.61109702]],\n",
              " \n",
              "        [[0.34179167, 0.2351355 ],\n",
              "         [0.22930811, 0.99207833],\n",
              "         [0.01065292, 0.50036966]],\n",
              " \n",
              "        [[0.60377925, 0.67056935],\n",
              "         [0.2915253 , 0.42764839],\n",
              "         [0.8933719 , 0.99887264]]]), array([[[0.28158527, 0.27949122],\n",
              "         [0.52562244, 0.12711617],\n",
              "         [0.49835702, 0.21595887]]]))"
            ]
          },
          "metadata": {},
          "execution_count": 53
        }
      ]
    },
    {
      "cell_type": "code",
      "source": [
        "x+y"
      ],
      "metadata": {
        "colab": {
          "base_uri": "https://localhost:8080/"
        },
        "id": "I1ElC4cDC-uq",
        "outputId": "12c48a05-8ed2-4bf6-ecaf-a6b66a5f4cfe"
      },
      "execution_count": 52,
      "outputs": [
        {
          "output_type": "execute_result",
          "data": {
            "text/plain": [
              "array([[[0.32560925, 0.70191017],\n",
              "        [0.69577604, 0.67686528],\n",
              "        [1.43169693, 0.79769375]],\n",
              "\n",
              "       [[1.25235736, 1.21824575],\n",
              "        [0.66728882, 0.77506829],\n",
              "        [0.76922316, 0.82705589]],\n",
              "\n",
              "       [[0.62337693, 0.51462672],\n",
              "        [0.75493055, 1.1191945 ],\n",
              "        [0.50900993, 0.71632853]],\n",
              "\n",
              "       [[0.88536451, 0.95006057],\n",
              "        [0.81714774, 0.55476455],\n",
              "        [1.39172891, 1.21483151]]])"
            ]
          },
          "metadata": {},
          "execution_count": 52
        }
      ]
    },
    {
      "cell_type": "code",
      "source": [
        "tf.cast(512, tf.float32)"
      ],
      "metadata": {
        "colab": {
          "base_uri": "https://localhost:8080/"
        },
        "id": "Fbrswnyk9EjM",
        "outputId": "c61712b3-fcc1-45fb-9ec0-c14792fe27f1"
      },
      "execution_count": null,
      "outputs": [
        {
          "output_type": "execute_result",
          "data": {
            "text/plain": [
              "<tf.Tensor: shape=(), dtype=float32, numpy=512.0>"
            ]
          },
          "metadata": {},
          "execution_count": 39
        }
      ]
    },
    {
      "cell_type": "code",
      "source": [
        "tokenizers.en.get_vocab_size()"
      ],
      "metadata": {
        "colab": {
          "base_uri": "https://localhost:8080/"
        },
        "id": "IBmeI00p3PY9",
        "outputId": "1a60a8f5-d8c6-462b-9fa4-5876f34a931f"
      },
      "execution_count": null,
      "outputs": [
        {
          "output_type": "execute_result",
          "data": {
            "text/plain": [
              "<tf.Tensor: shape=(), dtype=int32, numpy=7010>"
            ]
          },
          "metadata": {},
          "execution_count": 40
        }
      ]
    },
    {
      "cell_type": "code",
      "source": [
        "temp_layer = tf.keras.layers.Embedding(7010, 512, mask_zero=True)\n",
        "# help(temp_layer)"
      ],
      "metadata": {
        "id": "g6t0WrNH21Ey"
      },
      "execution_count": null,
      "outputs": []
    },
    {
      "cell_type": "code",
      "source": [
        "temp_model = tf.keras.Sequential()\n",
        "temp_layer = tf.keras.layers.Embedding(1000, 64, input_length=10, mask_zero=True)\n",
        "temp_model.add(temp_layer)\n",
        "# The model will take as input an integer matrix of size (batch,\n",
        "# input_length), and the largest integer (i.e. word index) in the input\n",
        "# should be no larger than 999 (vocabulary size).\n",
        "# Now model.output_shape is (None, 10, 64), where `None` is the batch\n",
        "# dimension.\n",
        "input_array = np.random.randint(1000, size=(1, 10))\n",
        "temp_model.compile('rmsprop', 'mse')\n",
        "output_array = temp_model.predict(input_array)\n",
        "# print(output_array)\n",
        "print(output_array.shape)\n",
        "#(1, 10, 64)"
      ],
      "metadata": {
        "colab": {
          "base_uri": "https://localhost:8080/"
        },
        "id": "cs5TYJmt4126",
        "outputId": "aa4cc434-73c2-46e7-86bd-abb6be196dbd"
      },
      "execution_count": null,
      "outputs": [
        {
          "output_type": "stream",
          "name": "stdout",
          "text": [
            "1/1 [==============================] - 0s 84ms/step\n",
            "(1, 10, 64)\n"
          ]
        }
      ]
    },
    {
      "cell_type": "code",
      "source": [
        "# print(temp_layer.compute_mask(input_array, mask_zero=True)) # would not work as this is just for forwarding the compute_mask"
      ],
      "metadata": {
        "id": "MB4eo7nb5F4_"
      },
      "execution_count": null,
      "outputs": []
    },
    {
      "cell_type": "code",
      "execution_count": 54,
      "metadata": {
        "id": "tfz-EaCEDfUJ",
        "colab": {
          "base_uri": "https://localhost:8080/"
        },
        "outputId": "b8219595-f2ce-4e02-b284-e713a72b9f1d"
      },
      "outputs": [
        {
          "output_type": "execute_result",
          "data": {
            "text/plain": [
              "<__main__.PositionalEmbedding at 0x7f12fc984f10>"
            ]
          },
          "metadata": {},
          "execution_count": 54
        }
      ],
      "source": [
        "embed_en = PositionalEmbedding(vocab_size=tokenizers.en.get_vocab_size(), d_model=512)\n",
        "embed_en"
      ]
    },
    {
      "cell_type": "code",
      "source": [
        "encoded.to_tensor()"
      ],
      "metadata": {
        "colab": {
          "base_uri": "https://localhost:8080/"
        },
        "id": "3SFJD1RjHF-G",
        "outputId": "e7a29089-b24e-43b9-cd81-52ce11760a7e"
      },
      "execution_count": 55,
      "outputs": [
        {
          "output_type": "execute_result",
          "data": {
            "text/plain": [
              "<tf.Tensor: shape=(5, 37), dtype=int64, numpy=\n",
              "array([[   2,   81, 4358,   88,  114,   15,    3,    0,    0,    0,    0,\n",
              "           0,    0,    0,    0,    0,    0,    0,    0,    0,    0,    0,\n",
              "           0,    0,    0,    0,    0,    0,    0,    0,    0,    0,    0,\n",
              "           0,    0,    0,    0],\n",
              "       [   2,   98,  187,  188, 2803,   92,   81,  894,    3,    0,    0,\n",
              "           0,    0,    0,    0,    0,    0,    0,    0,    0,    0,    0,\n",
              "           0,    0,    0,    0,    0,    0,    0,    0,    0,    0,    0,\n",
              "           0,    0,    0,    0],\n",
              "       [   2,  130, 5933,   27,   45,  149,   98,   91,   81,   15,   15,\n",
              "          45, 1868, 2312, 6438,   21,  501,   15,  148,   84,   37, 2395,\n",
              "          15,    3,    0,    0,    0,    0,    0,    0,    0,    0,    0,\n",
              "           0,    0,    0,    0],\n",
              "       [   2,   51, 3178, 3178,  459, 3529,   45,  133,   99,  519, 2491,\n",
              "          80,  418, 3456, 4312, 3746,  836,    3,    0,    0,    0,    0,\n",
              "           0,    0,    0,    0,    0,    0,    0,    0,    0,    0,    0,\n",
              "           0,    0,    0,    0],\n",
              "       [   2,   45,  140,  181,   73,  260, 1488,   31, 1470, 6401, 1163,\n",
              "        5140, 1572,   13, 3213,   45,  153,   89,  121, 1411,  417,  171,\n",
              "          31, 2159,  773, 6464,  587, 6422, 2199,  230,   85,   59, 1325,\n",
              "         388,  388,  388,    3]])>"
            ]
          },
          "metadata": {},
          "execution_count": 55
        }
      ]
    },
    {
      "cell_type": "code",
      "source": [
        "# This is where the error pops up. I assume it is because of the way we are preparing batches.\n",
        "\n",
        "# embed_en(encoded)\n",
        "embed_en(encoded.to_tensor()).shape"
      ],
      "metadata": {
        "colab": {
          "base_uri": "https://localhost:8080/"
        },
        "id": "l3M1i9ThT5cN",
        "outputId": "ffb972d6-c3ca-4f9b-819d-86dafc105d5d"
      },
      "execution_count": 56,
      "outputs": [
        {
          "output_type": "execute_result",
          "data": {
            "text/plain": [
              "TensorShape([5, 37, 512])"
            ]
          },
          "metadata": {},
          "execution_count": 56
        }
      ]
    },
    {
      "cell_type": "markdown",
      "metadata": {
        "id": "nLjScSWQv9M5"
      },
      "source": [
        "### Define the feed forward network"
      ]
    },
    {
      "cell_type": "markdown",
      "metadata": {
        "id": "pz0HBopX_VdU"
      },
      "source": [
        "Define a function for the point-wise feed-forward network that you'll use later."
      ]
    },
    {
      "cell_type": "markdown",
      "metadata": {
        "id": "0Yb-IV0Nlzd0"
      },
      "source": [
        "The network consists of two linear layers (`tf.keras.layers.Dense`) with a ReLU activation in-between:"
      ]
    },
    {
      "cell_type": "code",
      "execution_count": 57,
      "metadata": {
        "id": "ET7xLt0yCT6Z"
      },
      "outputs": [],
      "source": [
        "def point_wise_feed_forward_network(\n",
        "  d_model, # Input/output dimensionality.\n",
        "  dff # Inner-layer dimensionality.\n",
        "  ):\n",
        "\n",
        "  return tf.keras.Sequential([\n",
        "      tf.keras.layers.Dense(dff, activation='relu'),  # Shape `(batch_size, seq_len, dff)`.\n",
        "      tf.keras.layers.Dense(d_model)  # Shape `(batch_size, seq_len, d_model)`.\n",
        "  ])"
      ]
    },
    {
      "cell_type": "markdown",
      "metadata": {
        "id": "QFv-FNYUmvpn"
      },
      "source": [
        "### Define the encoder layer"
      ]
    },
    {
      "cell_type": "code",
      "execution_count": 58,
      "metadata": {
        "id": "ncyS-Ms3i2x_"
      },
      "outputs": [],
      "source": [
        "class EncoderLayer(tf.keras.layers.Layer):\n",
        "  def __init__(self,*,\n",
        "               d_model, # Input/output dimensionality.\n",
        "               num_attention_heads,\n",
        "               dff, # Inner-layer dimensionality.\n",
        "               dropout_rate=0.1\n",
        "               ):\n",
        "    super().__init__()\n",
        "\n",
        "\n",
        "    # Multi-head self-attention.\n",
        "    self.mha = tf.keras.layers.MultiHeadAttention(\n",
        "        num_heads=num_attention_heads,\n",
        "        key_dim=d_model, # Size of each attention head for query Q and key K.\n",
        "        dropout=dropout_rate,\n",
        "        )\n",
        "    # Point-wise feed-forward network.\n",
        "    self.ffn = point_wise_feed_forward_network(d_model, dff)\n",
        "\n",
        "    # Layer normalization.\n",
        "    self.layernorm1 = tf.keras.layers.LayerNormalization(epsilon=1e-6)\n",
        "    self.layernorm2 = tf.keras.layers.LayerNormalization(epsilon=1e-6)\n",
        "\n",
        "    # Dropout for the point-wise feed-forward network.\n",
        "    self.dropout1 = tf.keras.layers.Dropout(dropout_rate)\n",
        "\n",
        "  def call(self, x, training, mask):\n",
        "\n",
        "    # A boolean mask.\n",
        "    if mask is not None:\n",
        "      mask1 = mask[:, :, None]\n",
        "      mask2 = mask[:, None, :]\n",
        "      attention_mask = mask1 & mask2\n",
        "    else:\n",
        "      attention_mask = None\n",
        "\n",
        "    # Multi-head self-attention output (`tf.keras.layers.MultiHeadAttention `).\n",
        "    attn_output = self.mha(\n",
        "        query=x,  # Query Q tensor.\n",
        "        value=x,  # Value V tensor.\n",
        "        key=x,  # Key K tensor.\n",
        "        attention_mask=attention_mask, # A boolean mask that prevents attention to certain positions.\n",
        "        training=training, # A boolean indicating whether the layer should behave in training mode.\n",
        "        )\n",
        "\n",
        "    # Multi-head self-attention output after layer normalization and a residual/skip connection.\n",
        "    out1 = self.layernorm1(x + attn_output)  # Shape `(batch_size, input_seq_len, d_model)`\n",
        "\n",
        "    # Point-wise feed-forward network output.\n",
        "    ffn_output = self.ffn(out1)  # Shape `(batch_size, input_seq_len, d_model)`\n",
        "    ffn_output = self.dropout1(ffn_output, training=training)\n",
        "    # Point-wise feed-forward network output after layer normalization and a residual skip connection.\n",
        "    out2 = self.layernorm2(out1 + ffn_output)  # Shape `(batch_size, input_seq_len, d_model)`.\n",
        "\n",
        "    return out2"
      ]
    },
    {
      "cell_type": "code",
      "source": [
        "sample_encoder_layer = EncoderLayer(d_model=512, num_attention_heads=8, dff=2048)\n",
        "\n",
        "sample_encoder_layer_output = sample_encoder_layer(\n",
        "    tf.random.uniform((2, 3, 512)), training=False, mask=None)\n",
        "\n",
        "# Print the shape.\n",
        "print(sample_encoder_layer_output.shape)  # Shape `(batch_size, input_seq_len, d_model)`."
      ],
      "metadata": {
        "colab": {
          "base_uri": "https://localhost:8080/"
        },
        "id": "MVRCcp1oOe8H",
        "outputId": "1779d58d-4c8a-44da-b5cf-bb8a6a0238dd"
      },
      "execution_count": 59,
      "outputs": [
        {
          "output_type": "stream",
          "name": "stdout",
          "text": [
            "(2, 3, 512)\n"
          ]
        }
      ]
    },
    {
      "cell_type": "markdown",
      "metadata": {
        "id": "SE1H51Ajm0q1"
      },
      "source": [
        "### Define the encoder"
      ]
    },
    {
      "cell_type": "code",
      "execution_count": 69,
      "metadata": {
        "id": "jpEox7gJ8FCI"
      },
      "outputs": [],
      "source": [
        "class Encoder(tf.keras.layers.Layer):\n",
        "  def __init__(self,\n",
        "               *,\n",
        "               num_layers,\n",
        "               d_model, # Input/output dimensionality.\n",
        "               num_attention_heads,\n",
        "               dff, # Inner-layer dimensionality.\n",
        "               input_vocab_size, # Input (Portuguese) vocabulary size.\n",
        "               dropout_rate=0.1\n",
        "               ):\n",
        "    super().__init__()\n",
        "\n",
        "    self.d_model = d_model\n",
        "    self.num_layers = num_layers\n",
        "\n",
        "    # Embeddings + Positional encoding\n",
        "    self.pos_embedding = PositionalEmbedding(input_vocab_size, d_model)\n",
        "\n",
        "    # Encoder layers.\n",
        "    self.enc_layers = [\n",
        "        EncoderLayer(\n",
        "          d_model=d_model,\n",
        "          num_attention_heads=num_attention_heads,\n",
        "          dff=dff,\n",
        "          dropout_rate=dropout_rate)\n",
        "        for _ in range(num_layers)]\n",
        "    # Dropout.\n",
        "    self.dropout = tf.keras.layers.Dropout(dropout_rate)\n",
        "\n",
        "  # Masking.\n",
        "  def compute_mask(self, x, previous_mask=None):\n",
        "    return self.pos_embedding.compute_mask(x, previous_mask)\n",
        "\n",
        "  def call(self, x, training):\n",
        "\n",
        "    seq_len = tf.shape(x)[1]\n",
        "\n",
        "    # Sum up embeddings and positional encoding.\n",
        "    mask = self.compute_mask(x)\n",
        "    x = self.pos_embedding(x)  # Shape `(batch_size, input_seq_len, d_model)`.\n",
        "    # Add dropout.\n",
        "    x = self.dropout(x, training=training)\n",
        "\n",
        "    # N encoder layers.\n",
        "    for i in range(self.num_layers):\n",
        "      x = self.enc_layers[i](x, training, mask)\n",
        "\n",
        "    # experimental thing, may not work\n",
        "    x = tf.keras.layers.Flatten()(x)\n",
        "    x = tf.keras.layers.Dense(256, activation='relu')(x)\n",
        "    x = tf.keras.layers.Dense(32, activation='relu')(x)\n",
        "    x = tf.keras.layers.Dense(1, activation='sigmoid')(x)\n",
        "    return x  # Shape `(batch_size, input_seq_len, d_model)`."
      ]
    },
    {
      "cell_type": "code",
      "source": [
        "# Instantiate the encoder.\n",
        "sample_encoder = Encoder(\n",
        "    num_layers=8,\n",
        "    d_model=512,\n",
        "    num_attention_heads=8,\n",
        "    dff=2048,\n",
        "    input_vocab_size=7010)\n",
        "\n",
        "# Set the test input.\n",
        "sample_encoder_output = sample_encoder(encoded.to_tensor(),\n",
        "                                       training=False)\n",
        "\n",
        "# Print the shape.\n",
        "print(encoded.to_tensor().shape)\n",
        "print(sample_encoder_output.shape)  # Shape `(batch_size, input_seq_len, d_model)`."
      ],
      "metadata": {
        "id": "cp5jWxF9UaCa",
        "colab": {
          "base_uri": "https://localhost:8080/"
        },
        "outputId": "6e58be07-2978-43c5-de43-21edf87a1fee"
      },
      "execution_count": 70,
      "outputs": [
        {
          "output_type": "stream",
          "name": "stdout",
          "text": [
            "(5, 37)\n",
            "(5, 1)\n"
          ]
        }
      ]
    },
    {
      "cell_type": "code",
      "source": [
        "model = tf.keras.Sequential([\n",
        "    tf.keras.layers.InputLayer(input_shape=(128)),\n",
        "    sample_encoder\n",
        "])"
      ],
      "metadata": {
        "id": "sNZlioSXQASk"
      },
      "execution_count": 68,
      "outputs": []
    },
    {
      "cell_type": "code",
      "source": [
        "model.summary()"
      ],
      "metadata": {
        "colab": {
          "base_uri": "https://localhost:8080/"
        },
        "id": "keArSCgQQVD3",
        "outputId": "8fc657fe-3f4c-43ed-829a-412e4921ed44"
      },
      "execution_count": 66,
      "outputs": [
        {
          "output_type": "stream",
          "name": "stdout",
          "text": [
            "Model: \"sequential_10\"\n",
            "_________________________________________________________________\n",
            " Layer (type)                Output Shape              Param #   \n",
            "=================================================================\n",
            " encoder (Encoder)           multiple                  87614464  \n",
            "                                                                 \n",
            "=================================================================\n",
            "Total params: 87,614,464\n",
            "Trainable params: 87,614,464\n",
            "Non-trainable params: 0\n",
            "_________________________________________________________________\n"
          ]
        }
      ]
    },
    {
      "cell_type": "code",
      "source": [
        "[item for item in dir(model) if not item.startswith('_')]"
      ],
      "metadata": {
        "colab": {
          "base_uri": "https://localhost:8080/"
        },
        "collapsed": true,
        "id": "2qUsi8IIRfSF",
        "outputId": "af48a6da-fd1d-477a-da47-ca2aab6d248d"
      },
      "execution_count": null,
      "outputs": [
        {
          "output_type": "execute_result",
          "data": {
            "text/plain": [
              "['activity_regularizer',\n",
              " 'add',\n",
              " 'add_loss',\n",
              " 'add_metric',\n",
              " 'add_update',\n",
              " 'add_variable',\n",
              " 'add_weight',\n",
              " 'build',\n",
              " 'built',\n",
              " 'call',\n",
              " 'compile',\n",
              " 'compiled_loss',\n",
              " 'compiled_metrics',\n",
              " 'compute_dtype',\n",
              " 'compute_loss',\n",
              " 'compute_mask',\n",
              " 'compute_metrics',\n",
              " 'compute_output_shape',\n",
              " 'compute_output_signature',\n",
              " 'count_params',\n",
              " 'distribute_strategy',\n",
              " 'dtype',\n",
              " 'dtype_policy',\n",
              " 'dynamic',\n",
              " 'evaluate',\n",
              " 'evaluate_generator',\n",
              " 'finalize_state',\n",
              " 'fit',\n",
              " 'fit_generator',\n",
              " 'from_config',\n",
              " 'get_config',\n",
              " 'get_input_at',\n",
              " 'get_input_mask_at',\n",
              " 'get_input_shape_at',\n",
              " 'get_layer',\n",
              " 'get_output_at',\n",
              " 'get_output_mask_at',\n",
              " 'get_output_shape_at',\n",
              " 'get_weight_paths',\n",
              " 'get_weights',\n",
              " 'history',\n",
              " 'inbound_nodes',\n",
              " 'input',\n",
              " 'input_mask',\n",
              " 'input_names',\n",
              " 'input_shape',\n",
              " 'input_spec',\n",
              " 'inputs',\n",
              " 'layers',\n",
              " 'load_weights',\n",
              " 'losses',\n",
              " 'make_predict_function',\n",
              " 'make_test_function',\n",
              " 'make_train_function',\n",
              " 'metrics',\n",
              " 'metrics_names',\n",
              " 'name',\n",
              " 'name_scope',\n",
              " 'non_trainable_variables',\n",
              " 'non_trainable_weights',\n",
              " 'optimizer',\n",
              " 'outbound_nodes',\n",
              " 'output',\n",
              " 'output_mask',\n",
              " 'output_names',\n",
              " 'output_shape',\n",
              " 'outputs',\n",
              " 'pop',\n",
              " 'predict',\n",
              " 'predict_function',\n",
              " 'predict_generator',\n",
              " 'predict_on_batch',\n",
              " 'predict_step',\n",
              " 'reset_metrics',\n",
              " 'reset_states',\n",
              " 'run_eagerly',\n",
              " 'save',\n",
              " 'save_spec',\n",
              " 'save_weights',\n",
              " 'set_weights',\n",
              " 'state_updates',\n",
              " 'stateful',\n",
              " 'stop_training',\n",
              " 'submodules',\n",
              " 'summary',\n",
              " 'supports_masking',\n",
              " 'test_function',\n",
              " 'test_on_batch',\n",
              " 'test_step',\n",
              " 'to_json',\n",
              " 'to_yaml',\n",
              " 'train_function',\n",
              " 'train_on_batch',\n",
              " 'train_step',\n",
              " 'train_tf_function',\n",
              " 'trainable',\n",
              " 'trainable_variables',\n",
              " 'trainable_weights',\n",
              " 'updates',\n",
              " 'variable_dtype',\n",
              " 'variables',\n",
              " 'weights',\n",
              " 'with_name_scope']"
            ]
          },
          "metadata": {},
          "execution_count": 102
        }
      ]
    },
    {
      "cell_type": "code",
      "source": [
        "model.input_shape"
      ],
      "metadata": {
        "colab": {
          "base_uri": "https://localhost:8080/"
        },
        "id": "5NCb-S8SR-a2",
        "outputId": "56ffeb9e-38ee-4687-8a61-b48cc47a623d"
      },
      "execution_count": null,
      "outputs": [
        {
          "output_type": "execute_result",
          "data": {
            "text/plain": [
              "(None, 128)"
            ]
          },
          "metadata": {},
          "execution_count": 98
        }
      ]
    },
    {
      "cell_type": "code",
      "source": [
        "tokenized_sentences.to_tensor().shape # iske batches bnane hain..."
      ],
      "metadata": {
        "colab": {
          "base_uri": "https://localhost:8080/"
        },
        "id": "WXeuxu3ASHbu",
        "outputId": "eca34185-bd1e-4e68-fa15-adc8a183efb0"
      },
      "execution_count": null,
      "outputs": [
        {
          "output_type": "execute_result",
          "data": {
            "text/plain": [
              "TensorShape([43012, 129])"
            ]
          },
          "metadata": {},
          "execution_count": 99
        }
      ]
    },
    {
      "cell_type": "code",
      "source": [],
      "metadata": {
        "id": "5-jTpAyBSPdP"
      },
      "execution_count": null,
      "outputs": []
    }
  ],
  "metadata": {
    "colab": {
      "collapsed_sections": [],
      "provenance": []
    },
    "kernelspec": {
      "display_name": "Python 3",
      "name": "python3"
    }
  },
  "nbformat": 4,
  "nbformat_minor": 0
}